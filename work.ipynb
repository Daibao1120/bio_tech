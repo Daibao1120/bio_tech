{
 "metadata": {
  "language_info": {
   "codemirror_mode": {
    "name": "ipython",
    "version": 3
   },
   "file_extension": ".py",
   "mimetype": "text/x-python",
   "name": "python",
   "nbconvert_exporter": "python",
   "pygments_lexer": "ipython3",
   "version": "3.7.7-final"
  },
  "orig_nbformat": 2,
  "kernelspec": {
   "name": "python3",
   "display_name": "Python 3.7.7 64-bit ('3.7.7')",
   "metadata": {
    "interpreter": {
     "hash": "65a91a00147bd9c37ab1c57674717c798486d27e925c7a6032cecd8309fa1f02"
    }
   }
  }
 },
 "nbformat": 4,
 "nbformat_minor": 2,
 "cells": [
  {
   "cell_type": "code",
   "execution_count": 3,
   "metadata": {
    "tags": []
   },
   "outputs": [],
   "source": [
    "import pandas as pd\n",
    "import requests\n",
    "import json\n",
    "from bs4 import BeautifulSoup\n",
    "from tqdm import tqdm\n",
    "import csv\n",
    "import numpy as np\n",
    "import pickle as pk\n",
    "from collections import Counter\n",
    "from sklearn.cluster import KMeans\n",
    "import matplotlib.pyplot as plt"
   ]
  },
  {
   "cell_type": "code",
   "execution_count": 16,
   "metadata": {},
   "outputs": [],
   "source": [
    "pmidlist = []\n",
    "with open (\"pmid-nationalhe-set.txt\",'r',encoding = 'utf-8') as f:\n",
    "    for line in f:\n",
    "        pmidlist.append(line.strip('\\n'))"
   ]
  },
  {
   "cell_type": "code",
   "execution_count": 17,
   "metadata": {
    "tags": []
   },
   "outputs": [
    {
     "output_type": "stream",
     "name": "stderr",
     "text": [
      "  0%|          | 1/3863 [00:01<1:11:18,  1.11s/it]['participation bias', 'trauma', 'stroke', 'diabetes']\n",
      "  0%|          | 2/3863 [00:02<1:07:09,  1.04s/it][\"nhi's allocation plan\", \"nhi's allocation plan\", \"nhi's allocation plan\", 'gbam']\n",
      "  0%|          | 3/3863 [00:02<1:04:01,  1.00it/s]['rural townships', 'mountainous townships', 'rural townships']\n",
      "  0%|          | 4/3863 [00:03<1:01:50,  1.04it/s]['outpatient', 'patients']\n",
      "  0%|          | 5/3863 [00:04<1:00:29,  1.06it/s][]\n",
      "  0%|          | 6/3863 [00:05<59:30,  1.08it/s]  ['patients', 'patients', 'patients']\n",
      "  0%|          | 7/3863 [00:06<58:53,  1.09it/s]['people']\n",
      "  0%|          | 8/3863 [00:07<58:35,  1.10it/s]['people', 'people', 'people', 'People', 'people']\n",
      "  0%|          | 9/3863 [00:08<58:13,  1.10it/s]['validity of cancer', 'Cancer', 'cancer', 'Cancer', 'participants', 'Cancer', 'cancer', 'cancer', 'cancer deaths', 'cancer', 'cancer', 'cancers', 'cancers', 'lung cancer', 'cancer', 'cancer']\n",
      "  0%|          | 10/3863 [00:09<58:00,  1.11it/s]['people', 'people', 'social participation', 'social participation', 'social participation']\n",
      "  0%|          | 11/3863 [00:10<58:25,  1.10it/s][]\n",
      "  0%|          | 12/3863 [00:10<58:02,  1.11it/s]['stroke', 'patients', 'Patients', 'ischemic', 'hemorrhagic stroke', 'patients', 'stroke', 'stroke', 'ischemic', 'hemorrhagic stroke', 'patients', 'stroke', 'patients', 'hemorrhagic stroke', 'patients', 'ischemic stroke', 'patients']\n",
      "  0%|          | 13/3863 [00:11<57:47,  1.11it/s]['outpatient', 'persons', 'outpatient']\n",
      "  0%|          | 14/3863 [00:12<57:31,  1.12it/s][]\n",
      "  0%|          | 15/3863 [00:13<57:24,  1.12it/s]['chronic obstructive pulmonary disease', 'copd', 'copd', 'copd', 'copd', 'copd', 'copd', 'copd', 'outpatient', 'copd', 'copd', 'outpatient', 'copd', 'copd', 'copd', 'patients']\n",
      "  0%|          | 16/3863 [00:14<57:28,  1.12it/s]['Kawasaki Disease', 'kawasaki disease', 'patients', 'amp', 'patients', 'patients', 'children', 'patients']\n",
      "  0%|          | 17/3863 [00:15<57:20,  1.12it/s]['Cancer', 'cancer', 'cancer', 'cancer', 'colorectal', 'cancer', 'patient', 'diabetes', 'breast cancer', 'lung cancer', 'colorectal cancer', 'cancer', 'cancer', 'cancer', 'patients', 'cancer', 'patients']\n",
      "  0%|          | 18/3863 [00:16<57:23,  1.12it/s]['Ischemic Stroke', 'patients', 'acute ischemic stroke', 'stroke', 'patients', 'patients', 'patients', 'ischemic stroke', 'in stroke', 'patients', 'stroke', 'intracranial hemorrhage', 'stroke', 'patients', 'patients', 'stroke', 'stroke', 'patients', 'evt', 'evt', 'stroke', 'patients', 'anterior circulation stroke', 'stroke', 'stroke', 'patients', 'patients', 'stroke', 'patients', 'stroke', 'patients', 'patients', 'stroke', 'patients']\n",
      "  0%|          | 19/3863 [00:17<57:20,  1.12it/s][]\n",
      "  1%|          | 20/3863 [00:18<57:29,  1.11it/s]['outpatient', 'outpatient', 'people', 'outpatient', 'person', 'women', 'patients', 'hypertension', 'diabetes', 'acute upper respiratory infections', 'person', 'men', 'outpatient', 'patients', 'people']\n",
      "  1%|          | 21/3863 [00:19<57:27,  1.11it/s]['people', 'people', 'Chronic Disease Division Chief Jia Shuli', 'diabetes', 'patients', 'diabetes']\n",
      "  1%|          | 22/3863 [00:19<57:55,  1.11it/s]['patients', 'patient']\n",
      "  1%|          | 23/3863 [00:20<57:52,  1.11it/s]['people']\n",
      "  1%|          | 24/3863 [00:21<57:44,  1.11it/s]['rheumatoid arthritis', 'patients', 'ra', 'patients', 'patients', 'patients', 'patients', 'Patients', 'ra', 'catastrophic illness card', 'bdmard', 'bdmard', 'patients', 'patients', 'patients', 'ra', 'bdmard', 'adalimumab', 'patients', 'patients', 'patients', 'patients', 'patients', 'patients', 'patients', 'bdmards', 'bdmard', 'Patients', 'patients', 'ra']\n",
      "  1%|          | 25/3863 [00:22<58:09,  1.10it/s]['alzheimer disease', 'depressive', 'patients', 'depressive disorder', 'alzheimer disease', 'ad', 'patients', 'Patients', 'depressive disorder', 'patients', 'depression', 'depression', 'patients', 'ad', 'patients', 'depression', 'ad', 'patients', 'depression', 'ad', 'ad', 'patients', 'depression', 'artery diseases', 'ad', 'depressive disorder', 'ad', 'patients', 'depressed', 'patients', 'ad']\n",
      "  1%|          | 26/3863 [00:23<57:47,  1.11it/s]['cholinesterase', 'poisoning', 'cholinesterase', 'poisoning', 'organophosphate', 'carbamate', 'poisoning', 'neurological symptoms', 'respiratory failure', 'ci poisoning', 'organophosphate', 'carbamate', 'poisoning', 'Patients', 'acute ci poisoning', 'ci poisoning', 'patients', 'ci poisoning', 'respiratory failure', 'patients', 'patients', 'patients', 'respiratory failure', 'patients', 'pneumonia', 'pneumonia', 'ci poisoning', 'cholinesterase', 'poisoning', 'patients', 'poisoning', 'pneumonia', 'poisoning', 'diabetes mellitus', 'patients', 'ci poisoning']\n",
      "  1%|          | 27/3863 [00:24<57:31,  1.11it/s][]\n",
      "  1%|          | 28/3863 [00:25<57:12,  1.12it/s]['patients', 'hypercholesterolaemia', 'cardiovascular disease', 'cvd', 'Atorvastatin', 'simvastatin', 'rosuvastatin', 'Patients', 'cerebrovascular events', 'people', 'diabetes', 'people', 'myopathy', 'liver injury', 'Atorvastatin', 'patients', 'cvd', 'diabetes']\n",
      "  1%|          | 29/3863 [00:26<57:03,  1.12it/s]['dementia', \"parkinson's disease\", 'dementia', \"parkinson's disease\", 'pd', 'dementia', 'patients', 'pd', 'participants', 'patients', 'pd', 'pd', 'dementia', 'dementia', 'pd', 'dementia', 'dementia', 'pd', 'dementia', 'pd', 'men', 'women', 'dementia', 'pd', 'men', 'pd', 'patients', 'dementia']\n",
      "  1%|          | 30/3863 [00:27<56:49,  1.12it/s]['Ischemic Stroke', 'ischemic stroke', 'patients', 'patients', 'Stroke', 'aha', 'intracerebral hemorrhage', 'sich', 'Stroke', 'patients', 'stroke', 'diabetes', 'sich', 'stroke', 'patients', 'aha', 'asa']\n",
      "  1%|          | 31/3863 [00:27<56:49,  1.12it/s]['diabetes mellitus', 'carbohydrate', 'insulin', 'insulin', 'type 2 diabetes mellitus', 'thyroid disorders', 'thyroid disease', 'hypo-thyroidism', 'patients', 'patients', 'thyroid disease', 'thyroid disease', 'thyroid disease', 'hyperthyroidism', 'hypothyroidism', 'thyroid disease', 'hyperthyroidism and hypothyroidism', 'patients', 'thyroid disease', 'patients', 'patients', 'thyroid dysfunctions', 'thyroid dysfunctions', 'blood sugar', 'patients', 'thyroid diseases']\n",
      "  1%|          | 32/3863 [00:28<56:57,  1.12it/s][]\n",
      "  1%|          | 33/3863 [00:29<56:59,  1.12it/s]['Stroke', 'epilepsy', 'patients', 'stroke', 'epileptic', 'patients', 'epilepsy', 'stroke', 'patients', 'patients', 'epilepsy', 'stroke', 'stroke', 'patients', 'epilepsy', 'persons', 'epilepsy', 'stroke', 'patients', 'stroke', 'stroke', 'stroke', 'patients', 'epilepsy', 'epilepsy', 'epileptic', 'stroke', 'epilepsy', 'stroke', 'stroke', 'patients', 'epilepsy', 'pneumonia', 'urinary tract infection', 'stroke', 'Epileptic', 'patients', 'stroke', 'stroke', 'stroke', 'epileptic', 'patients']\n",
      "  1%|          | 34/3863 [00:30<56:53,  1.12it/s]['borderline personality disorder', 'personality disorder', 'people', 'psychiatric disorders', 'patients', 'patients', 'patients', 'psychiatric', 'patients', 'psychiatric', 'patients', 'patients', 'congenital anomalies', 'psychiatric', 'depressive disorder', 'bipolar disorder', 'anxiety disorder', 'sleep disorder', 'mental retardation', 'patients', 'patients', 'psychiatric disorders', 'patients', 'patients', 'psychiatric', 'people']\n",
      "  1%|          | 35/3863 [00:31<56:47,  1.12it/s]['breast cancer', 'women', 'women', 'breast cancer', 'breast cancer', 'patients', 'fluorine-18-fluorodeoxyglucose', 'breast cancer metastases', 'breast cancer', 'breast cancer', 'patients', 'breast cancer', 'patients', 'late-stage breast cancer', 'breast cancer', 'late-stage breast cancer', 'women', 'late-stage breast cancer', 'women', 'breast cancer', 'breast cancer']\n",
      "  1%|          | 36/3863 [00:32<56:31,  1.13it/s][]\n",
      "  1%|          | 37/3863 [00:33<56:25,  1.13it/s]['Patient', 'patients', 'patients', 'patient', 'patients']\n",
      "  1%|          | 38/3863 [00:34<56:34,  1.13it/s]['teriparatide', 'fracture', 'osteoporosis', 'teriparatide', 'patients', 'osteoporosis', 'fractures', 'teriparatide', 'patients', 'osteoporosis', 'teriparatide', 'fracture', 'patients', 'vertebral', 'hip fractures', 'teriparatide', 'teriparatide', 'teriparatide', 'fracture', 'patients', 'teriparatide', 'patients', 'Patients', 'fracture', 'Patients', 'fracture', 'teriparatide', 'patients', 'osteoporosis', 'fractures']\n",
      "  1%|          | 39/3863 [00:35<56:33,  1.13it/s]['Codeine', 'Children', 'codeine', 'codeine', 'codeine', 'upper respiratory infection', 'cough', 'codeine', 'cough visits', 'codeine', 'children', 'cough visits', 'patient', 'codeine', 'codeine', 'codeine', 'children', 'codeine', 'children', 'codeine', 'codeine']\n",
      "  1%|          | 40/3863 [00:35<56:41,  1.12it/s]['social participation', 'people', 'social participation', 'social participation', 'social participation', 'social participation']\n",
      "  1%|          | 41/3863 [00:36<56:45,  1.12it/s]['Zolpidem', \"alzheimer's disease\", 'People', 'zolpidem', \"alzheimer's disease\", 'people', 'participants', 'patients', 'Zolpidem', 'patients', 'zolpidem', 'zolpidem', 'zolpidem', 'cddd', 'patients', 'cddd', \"alzheimer's disease\", \"alzheimer's disease\", \"alzheimer's disease\", 'zolpidem', \"alzheimer's disease\", 'Zolpidem', 'cddd', \"alzheimer's disease\", 'zolpidem', 'cddd', 'zolpidem', \"alzheimer's disease\", 'people', 'zolpidem', 'patients']\n",
      "  1%|          | 42/3863 [00:37<56:52,  1.12it/s]['anterior cruciate ligament injury', 'osteoarthritis', 'osteoarthritis', 'patients', 'patients', 'patients', 'Patients', 'patients', 'patients', 'traumatic knee injury', 'patients']\n",
      "  1%|          | 43/3863 [00:38<56:40,  1.12it/s]['hip fracture', 'stroke', 'thiazide', 'hip fracture', 'stroke', 'participants', 'Patients', 'ischaemic stroke', 'patients', 'thiazides', 'hip fractures', 'stroke', 'patients', 'thiazides', 'stroke', 'hip fracture', 'thiazides', 'person', 'thiazide', 'hip fracture', 'thiazides', 'patients', 'thiazides', 'thiazides', 'stroke', 'hip fracture', 'patients', 'thiazide', 'thiazides', 'hip fracture', 'stroke']\n",
      "  1%|          | 44/3863 [00:39<56:33,  1.13it/s]['dementia', 'patients', 'non-haemorrhagic stroke', 'dementia', 'patients', 'stroke', 'patients', 'stroke', 'participants', 'patients', 'stroke', 'dementia', 'patients', 'stroke', 'dementia', 'dementia', 'ischaemic stroke', 'stroke', 'Patients', 'stroke', 'poststroke dementia', 'patients', 'non-haemorrhagic stroke', 'dementia', 'dementia']\n",
      "  1%|          | 45/3863 [00:40<59:57,  1.06it/s]['granulocyte colony-stimulating factor', 'febrile neutropenia', 'breast cancer', \"non-hodgkin's lymphoma\", 'patients', 'granulocyte colony-stimulating factor', 'g-csf', 'febrile neutropenia', 'g-csf', 'breast cancer', \"non-hodgkin's lymphoma\", 'nhl', 'patients', 'Patients', 'g-csf', 'g-csf', 'g-csf', 'g-csf', 'breast cancer', 'nhl', 'patients', 'patients', 'breast cancer', 'nhl', 'cancer', 'patients', 'g-csf', 'breast cancer', 'nhl', 'patients']\n",
      "  1%|          | 46/3863 [00:41<58:37,  1.09it/s]['gatekeepers', 'Women', 'patients', 'onion', 'patients', 'hypertension', 'patients', 'diabetes mellitus', 'patients', 'hyperlipidemia', 'patients', 'chronic disease']\n"
     ]
    }
   ],
   "source": [
    "pubmed_ids = pmidlist\n",
    "unnormallist = []\n",
    "pubtator = []\n",
    "keywordlist = []\n",
    "\n",
    "for id in tqdm(pubmed_ids): \n",
    "    html_for_id = requests.get('https://www.ncbi.nlm.nih.gov/research/pubtator-api/publications/export/pubtator?pmids={0}'.format(id))\n",
    "    # html_for_id = requests.get('https://www.ncbi.nlm.nih.gov/research/pubtator-api/publications/export/pubtator?pmids=31841525')\n",
    "    soup =  BeautifulSoup(html_for_id.text,'html.parser')\n",
    "    \n",
    "    try:\n",
    "        li = soup.prettify().split('\\n')\n",
    "        li.pop()\n",
    "        keyword = []\n",
    "        for i in li[2:]:\n",
    "            j = i.split('\\t')\n",
    "            # print(j)\n",
    "            try:\n",
    "                if j[3].istitle() == True:\n",
    "                    keyword.append(j[3])\n",
    "                else:\n",
    "                    a = j[3].lower()\n",
    "                    keyword.append(a)\n",
    "            except IndexError:\n",
    "                continue\n",
    "        print(keyword)\n",
    "        keywordlist.append(keyword)\n",
    "    except AttributeError:\n",
    "        keywordlist.append(\"None\")\n",
    "    # break\n"
   ]
  },
  {
   "cell_type": "code",
   "execution_count": null,
   "metadata": {},
   "outputs": [],
   "source": [
    "df = pd.read_csv('keyword.csv')\n",
    "df.iloc[0].isupper()"
   ]
  },
  {
   "cell_type": "code",
   "execution_count": null,
   "metadata": {
    "tags": [
     "outputPrepend"
    ]
   },
   "outputs": [],
   "source": [
    "Ab = []\n",
    "for a in abstracts:\n",
    "    a = a.strip()\n",
    "    a = a.replace(\"\\'\" , \"'\" )\n",
    "    print(a)\n",
    "    Ab.append(a)\n",
    "with open('Ab.txt', 'w', encoding = 'utf-8') as f:\n",
    "    f.write(str(Ab))"
   ]
  },
  {
   "cell_type": "code",
   "execution_count": null,
   "metadata": {
    "tags": []
   },
   "outputs": [],
   "source": [
    "df = pd.DataFrame (Ab,columns=['abstract'],index = pmidlist)\n",
    "df.to_csv('Ab.csv')"
   ]
  },
  {
   "cell_type": "markdown",
   "metadata": {},
   "source": [
    "keyword -->txt"
   ]
  },
  {
   "cell_type": "code",
   "execution_count": null,
   "metadata": {
    "tags": []
   },
   "outputs": [],
   "source": [
    "def lower(x):\n",
    "    if x.isupper() != True:\n",
    "        x = x.lower()\n",
    "    return x\n",
    "def lowerlist(a):\n",
    "    temp=[lower(x) for x in a]\n",
    "    return temp"
   ]
  },
  {
   "cell_type": "code",
   "execution_count": null,
   "metadata": {},
   "outputs": [],
   "source": [
    "with open('keyword.txt','r',encoding = 'utf-8') as f:\n",
    "    read = f.read()\n",
    "read = eval(read)\n",
    "read = [lowerlist(x) for x in read]\n",
    "allkeyword = []\n",
    "temp = []\n",
    "for i in read:\n",
    "    for j in i:\n",
    "        if j not in allkeyword:\n",
    "            allkeyword.append(j)\n",
    "allkeyword = [lower(x) for x in allkeyword]\n",
    "for i in allkeyword:\n",
    "    if not i in temp:\n",
    "        temp.append(i)\n",
    "with open('cleankeyword.txt', 'w') as f:\n",
    "    for line in temp:\n",
    "        f.write(line+'\\n')\n",
    "df = pd.DataFrame(read, index = pmidlist)\n",
    "df.to_csv('cleankeyword.csv')"
   ]
  },
  {
   "source": [
    "0927"
   ],
   "cell_type": "markdown",
   "metadata": {}
  },
  {
   "cell_type": "code",
   "execution_count": null,
   "metadata": {
    "tags": []
   },
   "outputs": [],
   "source": [
    "df = pd.read_csv('cleankeyword.csv', header = 0)\n",
    "df = df.fillna(0)\n",
    "word_dict = df.set_index('Unnamed: 0').T.to_dict('list')\n",
    "a = 27876245\n",
    "# print(word_dict[a])\n",
    "key_list = []\n",
    "for k, v in word_dict.items():\n",
    "    test_list2 = [x for x in v if x != 0]\n",
    "    key_list.append(test_list2)\n",
    "    # print(key_list)\n",
    "# with open('keyword0925.txt', 'w') as f:\n",
    "    # f.write(str(key_list))"
   ]
  },
  {
   "cell_type": "code",
   "execution_count": null,
   "metadata": {
    "tags": []
   },
   "outputs": [],
   "source": [
    "count = 0\n",
    "key_to_number = {}\n",
    "number_list = []\n",
    "for keylist in key_list:\n",
    "    tmplist = []\n",
    "    for key in keylist:\n",
    "        if key not in key_to_number:\n",
    "            key_to_number[key] = count\n",
    "            count += 1\n",
    "        tmplist.append(key_to_number[key])\n",
    "    number_list.append(tmplist)\n",
    "number_to_key = {}\n",
    "for k,v in key_to_number.items():\n",
    "    number_to_key[v] = k\n",
    "with open('key-dictionary.pickle', 'wb') as f:\n",
    "    pk.dump(number_to_key, f)\n",
    "with open('key_number_list.txt', 'w') as f:\n",
    "    f.write(str(number_list))\n"
   ]
  },
  {
   "cell_type": "code",
   "execution_count": null,
   "metadata": {
    "tags": []
   },
   "outputs": [],
   "source": [
    "with open('key-dictionary.pickle', 'rb')as f:\n",
    "    number_to_key = pk.load(f)\n",
    "df = pd.DataFrame(index = pmidlist, columns = number_to_key.values())\n",
    "with open('key_number_list.txt', 'r')as f:\n",
    "    read = eval(f.read())\n",
    "    for i, keylist in tqdm(enumerate(read)):\n",
    "        new_array = np.zeros(len(number_to_key), dtype = np.int)\n",
    "        count = Counter(keylist)\n",
    "        for j in keylist:\n",
    "            new_array[j] = count[j]\n",
    "        df.loc[pmidlist[i]] = list(new_array)\n",
    "df.to_csv('matrix.csv', index = True, header = True)"
   ]
  },
  {
   "source": [
    "DF<15 DF>70%"
   ],
   "cell_type": "markdown",
   "metadata": {}
  },
  {
   "cell_type": "code",
   "execution_count": 13,
   "metadata": {
    "tags": []
   },
   "outputs": [
    {
     "output_type": "stream",
     "name": "stdout",
     "text": [
      "(3863, 5779)\n",
      "3863\n",
      "(3863, 244)\n"
     ]
    }
   ],
   "source": [
    "df = pd.read_csv('matrix.csv', index_col=0)\n",
    "# corpus_data = df.values\n",
    "drop_list = []\n",
    "print(df.shape)\n",
    "for columns in df.columns:\n",
    "    # print(df[columns].values)\n",
    "    # break\n",
    "    # 要丟掉的\n",
    "    if np.sum(list(map(lambda x: x > 0, df[columns].values))) < 15:\n",
    "        # print(columns+\" 的 DF < 15\")\n",
    "        drop_list.append(columns)\n",
    "    elif np.sum(list(map(lambda x: x > 0, df[columns].values))) > 2704:\n",
    "        print(df.index.size)\n",
    "    #     print(columns+\" DF > 70%\")\n",
    "        drop_list.append(columns)\n",
    "df = df.drop(drop_list, axis=1)\n",
    "print(df.shape)\n",
    "df.to_csv('matrix_DF.csv',index = True, header = True)"
   ]
  },
  {
   "cell_type": "code",
   "execution_count": 14,
   "metadata": {},
   "outputs": [
    {
     "output_type": "stream",
     "name": "stdout",
     "text": [
      "(3863, 244)\n(3639, 244)\n"
     ]
    }
   ],
   "source": [
    "df = pd.read_csv('matrix_DF.csv', index_col=0)\n",
    "print(df.shape)\n",
    "df = df[(df.T != 0).any()]\n",
    "df = df.T\n",
    "df = df[(df.T != 0).any()]\n",
    "df = df.T\n",
    "print(df.shape)\n",
    "df.to_csv('matrix_DF.csv',index = True, header = True)"
   ]
  },
  {
   "cell_type": "code",
   "execution_count": 4,
   "metadata": {},
   "outputs": [
    {
     "output_type": "stream",
     "name": "stdout",
     "text": [
      "(3639, 244)\n"
     ]
    },
    {
     "output_type": "execute_result",
     "data": {
      "text/plain": [
       "          trauma  stroke  diabetes  outpatient  people  cancer  participants  \\\n",
       "27876245       1       1         1           0       0       0             0   \n",
       "30727703       0       0         0           1       0       0             0   \n",
       "30516295       0       0         0           0       1       0             0   \n",
       "30589852       0       0         0           0       5       0             0   \n",
       "28815803       0       0         0           0       0      10             1   \n",
       "...          ...     ...       ...         ...     ...     ...           ...   \n",
       "32332142       0       0         0           0       0       0             0   \n",
       "29058716       0       0         0           0       0       1             0   \n",
       "27432226       0       0         0           0       0       6             0   \n",
       "31911677       0       0         0           0       0       1             0   \n",
       "30496104       0       0         0           1       1       0             0   \n",
       "\n",
       "          cancers  lung cancer  ischemic  ...  appendicitis  \\\n",
       "27876245        0            0         0  ...             0   \n",
       "30727703        0            0         0  ...             0   \n",
       "30516295        0            0         0  ...             0   \n",
       "30589852        0            0         0  ...             0   \n",
       "28815803        2            1         0  ...             0   \n",
       "...           ...          ...       ...  ...           ...   \n",
       "32332142        0            0         0  ...             0   \n",
       "29058716        0            0         0  ...             0   \n",
       "27432226        3            0         0  ...             0   \n",
       "31911677        0            0         0  ...             0   \n",
       "30496104        0            0         0  ...             0   \n",
       "\n",
       "          peptic ulcer disease  tamoxifen  HBV  allopurinol  \\\n",
       "27876245                     0          0    0            0   \n",
       "30727703                     0          0    0            0   \n",
       "30516295                     0          0    0            0   \n",
       "30589852                     0          0    0            0   \n",
       "28815803                     0          0    0            0   \n",
       "...                        ...        ...  ...          ...   \n",
       "32332142                     0          0    0            0   \n",
       "29058716                     0          0    0            0   \n",
       "27432226                     0          0    0            0   \n",
       "31911677                     0          0    0            0   \n",
       "30496104                     0          0    0            0   \n",
       "\n",
       "          hepatitis c virus  mortality  ADT  vitamin k  chronic hepatitis c  \n",
       "27876245                  0          0    0          0                    0  \n",
       "30727703                  0          0    0          0                    0  \n",
       "30516295                  0          0    0          0                    0  \n",
       "30589852                  0          0    0          0                    0  \n",
       "28815803                  0          0    0          0                    0  \n",
       "...                     ...        ...  ...        ...                  ...  \n",
       "32332142                  0          5    0          0                    0  \n",
       "29058716                  0          0    0          0                    0  \n",
       "27432226                  0          0    0          0                    0  \n",
       "31911677                  0          0    0          0                    0  \n",
       "30496104                  0          0    0          0                    0  \n",
       "\n",
       "[3639 rows x 244 columns]"
      ],
      "text/html": "<div>\n<style scoped>\n    .dataframe tbody tr th:only-of-type {\n        vertical-align: middle;\n    }\n\n    .dataframe tbody tr th {\n        vertical-align: top;\n    }\n\n    .dataframe thead th {\n        text-align: right;\n    }\n</style>\n<table border=\"1\" class=\"dataframe\">\n  <thead>\n    <tr style=\"text-align: right;\">\n      <th></th>\n      <th>trauma</th>\n      <th>stroke</th>\n      <th>diabetes</th>\n      <th>outpatient</th>\n      <th>people</th>\n      <th>cancer</th>\n      <th>participants</th>\n      <th>cancers</th>\n      <th>lung cancer</th>\n      <th>ischemic</th>\n      <th>...</th>\n      <th>appendicitis</th>\n      <th>peptic ulcer disease</th>\n      <th>tamoxifen</th>\n      <th>HBV</th>\n      <th>allopurinol</th>\n      <th>hepatitis c virus</th>\n      <th>mortality</th>\n      <th>ADT</th>\n      <th>vitamin k</th>\n      <th>chronic hepatitis c</th>\n    </tr>\n  </thead>\n  <tbody>\n    <tr>\n      <th>27876245</th>\n      <td>1</td>\n      <td>1</td>\n      <td>1</td>\n      <td>0</td>\n      <td>0</td>\n      <td>0</td>\n      <td>0</td>\n      <td>0</td>\n      <td>0</td>\n      <td>0</td>\n      <td>...</td>\n      <td>0</td>\n      <td>0</td>\n      <td>0</td>\n      <td>0</td>\n      <td>0</td>\n      <td>0</td>\n      <td>0</td>\n      <td>0</td>\n      <td>0</td>\n      <td>0</td>\n    </tr>\n    <tr>\n      <th>30727703</th>\n      <td>0</td>\n      <td>0</td>\n      <td>0</td>\n      <td>1</td>\n      <td>0</td>\n      <td>0</td>\n      <td>0</td>\n      <td>0</td>\n      <td>0</td>\n      <td>0</td>\n      <td>...</td>\n      <td>0</td>\n      <td>0</td>\n      <td>0</td>\n      <td>0</td>\n      <td>0</td>\n      <td>0</td>\n      <td>0</td>\n      <td>0</td>\n      <td>0</td>\n      <td>0</td>\n    </tr>\n    <tr>\n      <th>30516295</th>\n      <td>0</td>\n      <td>0</td>\n      <td>0</td>\n      <td>0</td>\n      <td>1</td>\n      <td>0</td>\n      <td>0</td>\n      <td>0</td>\n      <td>0</td>\n      <td>0</td>\n      <td>...</td>\n      <td>0</td>\n      <td>0</td>\n      <td>0</td>\n      <td>0</td>\n      <td>0</td>\n      <td>0</td>\n      <td>0</td>\n      <td>0</td>\n      <td>0</td>\n      <td>0</td>\n    </tr>\n    <tr>\n      <th>30589852</th>\n      <td>0</td>\n      <td>0</td>\n      <td>0</td>\n      <td>0</td>\n      <td>5</td>\n      <td>0</td>\n      <td>0</td>\n      <td>0</td>\n      <td>0</td>\n      <td>0</td>\n      <td>...</td>\n      <td>0</td>\n      <td>0</td>\n      <td>0</td>\n      <td>0</td>\n      <td>0</td>\n      <td>0</td>\n      <td>0</td>\n      <td>0</td>\n      <td>0</td>\n      <td>0</td>\n    </tr>\n    <tr>\n      <th>28815803</th>\n      <td>0</td>\n      <td>0</td>\n      <td>0</td>\n      <td>0</td>\n      <td>0</td>\n      <td>10</td>\n      <td>1</td>\n      <td>2</td>\n      <td>1</td>\n      <td>0</td>\n      <td>...</td>\n      <td>0</td>\n      <td>0</td>\n      <td>0</td>\n      <td>0</td>\n      <td>0</td>\n      <td>0</td>\n      <td>0</td>\n      <td>0</td>\n      <td>0</td>\n      <td>0</td>\n    </tr>\n    <tr>\n      <th>...</th>\n      <td>...</td>\n      <td>...</td>\n      <td>...</td>\n      <td>...</td>\n      <td>...</td>\n      <td>...</td>\n      <td>...</td>\n      <td>...</td>\n      <td>...</td>\n      <td>...</td>\n      <td>...</td>\n      <td>...</td>\n      <td>...</td>\n      <td>...</td>\n      <td>...</td>\n      <td>...</td>\n      <td>...</td>\n      <td>...</td>\n      <td>...</td>\n      <td>...</td>\n      <td>...</td>\n    </tr>\n    <tr>\n      <th>32332142</th>\n      <td>0</td>\n      <td>0</td>\n      <td>0</td>\n      <td>0</td>\n      <td>0</td>\n      <td>0</td>\n      <td>0</td>\n      <td>0</td>\n      <td>0</td>\n      <td>0</td>\n      <td>...</td>\n      <td>0</td>\n      <td>0</td>\n      <td>0</td>\n      <td>0</td>\n      <td>0</td>\n      <td>0</td>\n      <td>5</td>\n      <td>0</td>\n      <td>0</td>\n      <td>0</td>\n    </tr>\n    <tr>\n      <th>29058716</th>\n      <td>0</td>\n      <td>0</td>\n      <td>0</td>\n      <td>0</td>\n      <td>0</td>\n      <td>1</td>\n      <td>0</td>\n      <td>0</td>\n      <td>0</td>\n      <td>0</td>\n      <td>...</td>\n      <td>0</td>\n      <td>0</td>\n      <td>0</td>\n      <td>0</td>\n      <td>0</td>\n      <td>0</td>\n      <td>0</td>\n      <td>0</td>\n      <td>0</td>\n      <td>0</td>\n    </tr>\n    <tr>\n      <th>27432226</th>\n      <td>0</td>\n      <td>0</td>\n      <td>0</td>\n      <td>0</td>\n      <td>0</td>\n      <td>6</td>\n      <td>0</td>\n      <td>3</td>\n      <td>0</td>\n      <td>0</td>\n      <td>...</td>\n      <td>0</td>\n      <td>0</td>\n      <td>0</td>\n      <td>0</td>\n      <td>0</td>\n      <td>0</td>\n      <td>0</td>\n      <td>0</td>\n      <td>0</td>\n      <td>0</td>\n    </tr>\n    <tr>\n      <th>31911677</th>\n      <td>0</td>\n      <td>0</td>\n      <td>0</td>\n      <td>0</td>\n      <td>0</td>\n      <td>1</td>\n      <td>0</td>\n      <td>0</td>\n      <td>0</td>\n      <td>0</td>\n      <td>...</td>\n      <td>0</td>\n      <td>0</td>\n      <td>0</td>\n      <td>0</td>\n      <td>0</td>\n      <td>0</td>\n      <td>0</td>\n      <td>0</td>\n      <td>0</td>\n      <td>0</td>\n    </tr>\n    <tr>\n      <th>30496104</th>\n      <td>0</td>\n      <td>0</td>\n      <td>0</td>\n      <td>1</td>\n      <td>1</td>\n      <td>0</td>\n      <td>0</td>\n      <td>0</td>\n      <td>0</td>\n      <td>0</td>\n      <td>...</td>\n      <td>0</td>\n      <td>0</td>\n      <td>0</td>\n      <td>0</td>\n      <td>0</td>\n      <td>0</td>\n      <td>0</td>\n      <td>0</td>\n      <td>0</td>\n      <td>0</td>\n    </tr>\n  </tbody>\n</table>\n<p>3639 rows × 244 columns</p>\n</div>"
     },
     "metadata": {},
     "execution_count": 4
    }
   ],
   "source": [
    "df = pd.read_csv('matrix_DF.csv', index_col=0)\n",
    "# df.to_csv('matrix_DF.csv',index = True, header = True)\n",
    "corpus_data = df.values\n",
    "print(corpus_data.shape)\n",
    "df"
   ]
  },
  {
   "source": [
    "SOM初始分群"
   ],
   "cell_type": "markdown",
   "metadata": {}
  },
  {
   "cell_type": "code",
   "execution_count": 5,
   "metadata": {},
   "outputs": [
    {
     "output_type": "stream",
     "name": "stdout",
     "text": [
      " [ 100 / 100 ] 100% - 0:00:00 left \n quantization error: 5.658894425098617\n"
     ]
    },
    {
     "output_type": "display_data",
     "data": {
      "text/plain": "<Figure size 432x288 with 2 Axes>",
      "image/svg+xml": "<?xml version=\"1.0\" encoding=\"utf-8\" standalone=\"no\"?>\n<!DOCTYPE svg PUBLIC \"-//W3C//DTD SVG 1.1//EN\"\n  \"http://www.w3.org/Graphics/SVG/1.1/DTD/svg11.dtd\">\n<!-- Created with matplotlib (https://matplotlib.org/) -->\n<svg height=\"252.317344pt\" version=\"1.1\" viewBox=\"0 0 346.117625 252.317344\" width=\"346.117625pt\" xmlns=\"http://www.w3.org/2000/svg\" xmlns:xlink=\"http://www.w3.org/1999/xlink\">\n <metadata>\n  <rdf:RDF xmlns:cc=\"http://creativecommons.org/ns#\" xmlns:dc=\"http://purl.org/dc/elements/1.1/\" xmlns:rdf=\"http://www.w3.org/1999/02/22-rdf-syntax-ns#\">\n   <cc:Work>\n    <dc:type rdf:resource=\"http://purl.org/dc/dcmitype/StillImage\"/>\n    <dc:date>2020-12-07T12:54:31.697831</dc:date>\n    <dc:format>image/svg+xml</dc:format>\n    <dc:creator>\n     <cc:Agent>\n      <dc:title>Matplotlib v3.3.3, https://matplotlib.org/</dc:title>\n     </cc:Agent>\n    </dc:creator>\n   </cc:Work>\n  </rdf:RDF>\n </metadata>\n <defs>\n  <style type=\"text/css\">*{stroke-linecap:butt;stroke-linejoin:round;}</style>\n </defs>\n <g id=\"figure_1\">\n  <g id=\"patch_1\">\n   <path d=\"M 0 252.317344 \nL 346.117625 252.317344 \nL 346.117625 0 \nL 0 0 \nz\n\" style=\"fill:none;\"/>\n  </g>\n  <g id=\"axes_1\">\n   <g id=\"patch_2\">\n    <path d=\"M 20.5625 228.439219 \nL 288.4025 228.439219 \nL 288.4025 10.999219 \nL 20.5625 10.999219 \nz\n\" style=\"fill:#ffffff;\"/>\n   </g>\n   <g id=\"PolyCollection_1\">\n    <path clip-path=\"url(#p48cb7341f9)\" d=\"M 20.5625 228.439219 \nL 20.5625 192.199219 \nL 65.2025 192.199219 \nL 65.2025 228.439219 \nL 20.5625 228.439219 \nz\n\" style=\"fill:#fc9474;\"/>\n    <path clip-path=\"url(#p48cb7341f9)\" d=\"M 65.2025 228.439219 \nL 65.2025 192.199219 \nL 109.8425 192.199219 \nL 109.8425 228.439219 \nL 65.2025 228.439219 \nz\n\" style=\"fill:#f5523a;\"/>\n    <path clip-path=\"url(#p48cb7341f9)\" d=\"M 109.8425 228.439219 \nL 109.8425 192.199219 \nL 154.4825 192.199219 \nL 154.4825 228.439219 \nL 109.8425 228.439219 \nz\n\" style=\"fill:#fcb79c;\"/>\n    <path clip-path=\"url(#p48cb7341f9)\" d=\"M 154.4825 228.439219 \nL 154.4825 192.199219 \nL 199.1225 192.199219 \nL 199.1225 228.439219 \nL 154.4825 228.439219 \nz\n\" style=\"fill:#fcb296;\"/>\n    <path clip-path=\"url(#p48cb7341f9)\" d=\"M 199.1225 228.439219 \nL 199.1225 192.199219 \nL 243.7625 192.199219 \nL 243.7625 228.439219 \nL 199.1225 228.439219 \nz\n\" style=\"fill:#fdc9b3;\"/>\n    <path clip-path=\"url(#p48cb7341f9)\" d=\"M 243.7625 228.439219 \nL 243.7625 192.199219 \nL 288.4025 192.199219 \nL 288.4025 228.439219 \nL 243.7625 228.439219 \nz\n\" style=\"fill:#fee9df;\"/>\n    <path clip-path=\"url(#p48cb7341f9)\" d=\"M 20.5625 192.199219 \nL 20.5625 155.959219 \nL 65.2025 155.959219 \nL 65.2025 192.199219 \nL 20.5625 192.199219 \nz\n\" style=\"fill:#de2b25;\"/>\n    <path clip-path=\"url(#p48cb7341f9)\" d=\"M 65.2025 192.199219 \nL 65.2025 155.959219 \nL 109.8425 155.959219 \nL 109.8425 192.199219 \nL 65.2025 192.199219 \nz\n\" style=\"fill:#f34c37;\"/>\n    <path clip-path=\"url(#p48cb7341f9)\" d=\"M 109.8425 192.199219 \nL 109.8425 155.959219 \nL 154.4825 155.959219 \nL 154.4825 192.199219 \nL 109.8425 192.199219 \nz\n\" style=\"fill:#b31218;\"/>\n    <path clip-path=\"url(#p48cb7341f9)\" d=\"M 154.4825 192.199219 \nL 154.4825 155.959219 \nL 199.1225 155.959219 \nL 199.1225 192.199219 \nL 154.4825 192.199219 \nz\n\" style=\"fill:#fc8464;\"/>\n    <path clip-path=\"url(#p48cb7341f9)\" d=\"M 199.1225 192.199219 \nL 199.1225 155.959219 \nL 243.7625 155.959219 \nL 243.7625 192.199219 \nL 199.1225 192.199219 \nz\n\" style=\"fill:#e93529;\"/>\n    <path clip-path=\"url(#p48cb7341f9)\" d=\"M 243.7625 192.199219 \nL 243.7625 155.959219 \nL 288.4025 155.959219 \nL 288.4025 192.199219 \nL 243.7625 192.199219 \nz\n\" style=\"fill:#fdc9b3;\"/>\n    <path clip-path=\"url(#p48cb7341f9)\" d=\"M 20.5625 155.959219 \nL 20.5625 119.719219 \nL 65.2025 119.719219 \nL 65.2025 155.959219 \nL 20.5625 155.959219 \nz\n\" style=\"fill:#fedaca;\"/>\n    <path clip-path=\"url(#p48cb7341f9)\" d=\"M 65.2025 155.959219 \nL 65.2025 119.719219 \nL 109.8425 119.719219 \nL 109.8425 155.959219 \nL 65.2025 155.959219 \nz\n\" style=\"fill:#940b13;\"/>\n    <path clip-path=\"url(#p48cb7341f9)\" d=\"M 109.8425 155.959219 \nL 109.8425 119.719219 \nL 154.4825 119.719219 \nL 154.4825 155.959219 \nL 109.8425 155.959219 \nz\n\" style=\"fill:#fc9777;\"/>\n    <path clip-path=\"url(#p48cb7341f9)\" d=\"M 154.4825 155.959219 \nL 154.4825 119.719219 \nL 199.1225 119.719219 \nL 199.1225 155.959219 \nL 154.4825 155.959219 \nz\n\" style=\"fill:#b71319;\"/>\n    <path clip-path=\"url(#p48cb7341f9)\" d=\"M 199.1225 155.959219 \nL 199.1225 119.719219 \nL 243.7625 119.719219 \nL 243.7625 155.959219 \nL 199.1225 155.959219 \nz\n\" style=\"fill:#ea362a;\"/>\n    <path clip-path=\"url(#p48cb7341f9)\" d=\"M 243.7625 155.959219 \nL 243.7625 119.719219 \nL 288.4025 119.719219 \nL 288.4025 155.959219 \nL 243.7625 155.959219 \nz\n\" style=\"fill:#fca98c;\"/>\n    <path clip-path=\"url(#p48cb7341f9)\" d=\"M 20.5625 119.719219 \nL 20.5625 83.479219 \nL 65.2025 83.479219 \nL 65.2025 119.719219 \nL 20.5625 119.719219 \nz\n\" style=\"fill:#fdcebb;\"/>\n    <path clip-path=\"url(#p48cb7341f9)\" d=\"M 65.2025 119.719219 \nL 65.2025 83.479219 \nL 109.8425 83.479219 \nL 109.8425 119.719219 \nL 65.2025 119.719219 \nz\n\" style=\"fill:#fca183;\"/>\n    <path clip-path=\"url(#p48cb7341f9)\" d=\"M 109.8425 119.719219 \nL 109.8425 83.479219 \nL 154.4825 83.479219 \nL 154.4825 119.719219 \nL 109.8425 119.719219 \nz\n\" style=\"fill:#a60f15;\"/>\n    <path clip-path=\"url(#p48cb7341f9)\" d=\"M 154.4825 119.719219 \nL 154.4825 83.479219 \nL 199.1225 83.479219 \nL 199.1225 119.719219 \nL 154.4825 119.719219 \nz\n\" style=\"fill:#e53228;\"/>\n    <path clip-path=\"url(#p48cb7341f9)\" d=\"M 199.1225 119.719219 \nL 199.1225 83.479219 \nL 243.7625 83.479219 \nL 243.7625 119.719219 \nL 199.1225 119.719219 \nz\n\" style=\"fill:#75030f;\"/>\n    <path clip-path=\"url(#p48cb7341f9)\" d=\"M 243.7625 119.719219 \nL 243.7625 83.479219 \nL 288.4025 83.479219 \nL 288.4025 119.719219 \nL 243.7625 119.719219 \nz\n\" style=\"fill:#fb7252;\"/>\n    <path clip-path=\"url(#p48cb7341f9)\" d=\"M 20.5625 83.479219 \nL 20.5625 47.239219 \nL 65.2025 47.239219 \nL 65.2025 83.479219 \nL 20.5625 83.479219 \nz\n\" style=\"fill:#fee8dd;\"/>\n    <path clip-path=\"url(#p48cb7341f9)\" d=\"M 65.2025 83.479219 \nL 65.2025 47.239219 \nL 109.8425 47.239219 \nL 109.8425 83.479219 \nL 65.2025 83.479219 \nz\n\" style=\"fill:#e53228;\"/>\n    <path clip-path=\"url(#p48cb7341f9)\" d=\"M 109.8425 83.479219 \nL 109.8425 47.239219 \nL 154.4825 47.239219 \nL 154.4825 83.479219 \nL 109.8425 83.479219 \nz\n\" style=\"fill:#e22e27;\"/>\n    <path clip-path=\"url(#p48cb7341f9)\" d=\"M 154.4825 83.479219 \nL 154.4825 47.239219 \nL 199.1225 47.239219 \nL 199.1225 83.479219 \nL 154.4825 83.479219 \nz\n\" style=\"fill:#db2824;\"/>\n    <path clip-path=\"url(#p48cb7341f9)\" d=\"M 199.1225 83.479219 \nL 199.1225 47.239219 \nL 243.7625 47.239219 \nL 243.7625 83.479219 \nL 199.1225 83.479219 \nz\n\" style=\"fill:#67000d;\"/>\n    <path clip-path=\"url(#p48cb7341f9)\" d=\"M 243.7625 83.479219 \nL 243.7625 47.239219 \nL 288.4025 47.239219 \nL 288.4025 83.479219 \nL 243.7625 83.479219 \nz\n\" style=\"fill:#fcb296;\"/>\n    <path clip-path=\"url(#p48cb7341f9)\" d=\"M 20.5625 47.239219 \nL 20.5625 10.999219 \nL 65.2025 10.999219 \nL 65.2025 47.239219 \nL 20.5625 47.239219 \nz\n\" style=\"fill:#fdd1be;\"/>\n    <path clip-path=\"url(#p48cb7341f9)\" d=\"M 65.2025 47.239219 \nL 65.2025 10.999219 \nL 109.8425 10.999219 \nL 109.8425 47.239219 \nL 65.2025 47.239219 \nz\n\" style=\"fill:#fedecf;\"/>\n    <path clip-path=\"url(#p48cb7341f9)\" d=\"M 109.8425 47.239219 \nL 109.8425 10.999219 \nL 154.4825 10.999219 \nL 154.4825 47.239219 \nL 109.8425 47.239219 \nz\n\" style=\"fill:#fedccd;\"/>\n    <path clip-path=\"url(#p48cb7341f9)\" d=\"M 154.4825 47.239219 \nL 154.4825 10.999219 \nL 199.1225 10.999219 \nL 199.1225 47.239219 \nL 154.4825 47.239219 \nz\n\" style=\"fill:#fdcab5;\"/>\n    <path clip-path=\"url(#p48cb7341f9)\" d=\"M 199.1225 47.239219 \nL 199.1225 10.999219 \nL 243.7625 10.999219 \nL 243.7625 47.239219 \nL 199.1225 47.239219 \nz\n\" style=\"fill:#fdc6b0;\"/>\n    <path clip-path=\"url(#p48cb7341f9)\" d=\"M 243.7625 47.239219 \nL 243.7625 10.999219 \nL 288.4025 10.999219 \nL 288.4025 47.239219 \nL 243.7625 47.239219 \nz\n\" style=\"fill:#fff5f0;\"/>\n   </g>\n   <g id=\"matplotlib.axis_1\">\n    <g id=\"xtick_1\">\n     <g id=\"line2d_1\">\n      <defs>\n       <path d=\"M 0 0 \nL 0 3.5 \n\" id=\"mae3b2d0916\" style=\"stroke:#000000;stroke-width:0.8;\"/>\n      </defs>\n      <g>\n       <use style=\"stroke:#000000;stroke-width:0.8;\" x=\"20.5625\" xlink:href=\"#mae3b2d0916\" y=\"228.439219\"/>\n      </g>\n     </g>\n     <g id=\"text_1\">\n      <!-- 0 -->\n      <g transform=\"translate(17.38125 243.037656)scale(0.1 -0.1)\">\n       <defs>\n        <path d=\"M 31.78125 66.40625 \nQ 24.171875 66.40625 20.328125 58.90625 \nQ 16.5 51.421875 16.5 36.375 \nQ 16.5 21.390625 20.328125 13.890625 \nQ 24.171875 6.390625 31.78125 6.390625 \nQ 39.453125 6.390625 43.28125 13.890625 \nQ 47.125 21.390625 47.125 36.375 \nQ 47.125 51.421875 43.28125 58.90625 \nQ 39.453125 66.40625 31.78125 66.40625 \nz\nM 31.78125 74.21875 \nQ 44.046875 74.21875 50.515625 64.515625 \nQ 56.984375 54.828125 56.984375 36.375 \nQ 56.984375 17.96875 50.515625 8.265625 \nQ 44.046875 -1.421875 31.78125 -1.421875 \nQ 19.53125 -1.421875 13.0625 8.265625 \nQ 6.59375 17.96875 6.59375 36.375 \nQ 6.59375 54.828125 13.0625 64.515625 \nQ 19.53125 74.21875 31.78125 74.21875 \nz\n\" id=\"DejaVuSans-48\"/>\n       </defs>\n       <use xlink:href=\"#DejaVuSans-48\"/>\n      </g>\n     </g>\n    </g>\n    <g id=\"xtick_2\">\n     <g id=\"line2d_2\">\n      <g>\n       <use style=\"stroke:#000000;stroke-width:0.8;\" x=\"65.2025\" xlink:href=\"#mae3b2d0916\" y=\"228.439219\"/>\n      </g>\n     </g>\n     <g id=\"text_2\">\n      <!-- 1 -->\n      <g transform=\"translate(62.02125 243.037656)scale(0.1 -0.1)\">\n       <defs>\n        <path d=\"M 12.40625 8.296875 \nL 28.515625 8.296875 \nL 28.515625 63.921875 \nL 10.984375 60.40625 \nL 10.984375 69.390625 \nL 28.421875 72.90625 \nL 38.28125 72.90625 \nL 38.28125 8.296875 \nL 54.390625 8.296875 \nL 54.390625 0 \nL 12.40625 0 \nz\n\" id=\"DejaVuSans-49\"/>\n       </defs>\n       <use xlink:href=\"#DejaVuSans-49\"/>\n      </g>\n     </g>\n    </g>\n    <g id=\"xtick_3\">\n     <g id=\"line2d_3\">\n      <g>\n       <use style=\"stroke:#000000;stroke-width:0.8;\" x=\"109.8425\" xlink:href=\"#mae3b2d0916\" y=\"228.439219\"/>\n      </g>\n     </g>\n     <g id=\"text_3\">\n      <!-- 2 -->\n      <g transform=\"translate(106.66125 243.037656)scale(0.1 -0.1)\">\n       <defs>\n        <path d=\"M 19.1875 8.296875 \nL 53.609375 8.296875 \nL 53.609375 0 \nL 7.328125 0 \nL 7.328125 8.296875 \nQ 12.9375 14.109375 22.625 23.890625 \nQ 32.328125 33.6875 34.8125 36.53125 \nQ 39.546875 41.84375 41.421875 45.53125 \nQ 43.3125 49.21875 43.3125 52.78125 \nQ 43.3125 58.59375 39.234375 62.25 \nQ 35.15625 65.921875 28.609375 65.921875 \nQ 23.96875 65.921875 18.8125 64.3125 \nQ 13.671875 62.703125 7.8125 59.421875 \nL 7.8125 69.390625 \nQ 13.765625 71.78125 18.9375 73 \nQ 24.125 74.21875 28.421875 74.21875 \nQ 39.75 74.21875 46.484375 68.546875 \nQ 53.21875 62.890625 53.21875 53.421875 \nQ 53.21875 48.921875 51.53125 44.890625 \nQ 49.859375 40.875 45.40625 35.40625 \nQ 44.1875 33.984375 37.640625 27.21875 \nQ 31.109375 20.453125 19.1875 8.296875 \nz\n\" id=\"DejaVuSans-50\"/>\n       </defs>\n       <use xlink:href=\"#DejaVuSans-50\"/>\n      </g>\n     </g>\n    </g>\n    <g id=\"xtick_4\">\n     <g id=\"line2d_4\">\n      <g>\n       <use style=\"stroke:#000000;stroke-width:0.8;\" x=\"154.4825\" xlink:href=\"#mae3b2d0916\" y=\"228.439219\"/>\n      </g>\n     </g>\n     <g id=\"text_4\">\n      <!-- 3 -->\n      <g transform=\"translate(151.30125 243.037656)scale(0.1 -0.1)\">\n       <defs>\n        <path d=\"M 40.578125 39.3125 \nQ 47.65625 37.796875 51.625 33 \nQ 55.609375 28.21875 55.609375 21.1875 \nQ 55.609375 10.40625 48.1875 4.484375 \nQ 40.765625 -1.421875 27.09375 -1.421875 \nQ 22.515625 -1.421875 17.65625 -0.515625 \nQ 12.796875 0.390625 7.625 2.203125 \nL 7.625 11.71875 \nQ 11.71875 9.328125 16.59375 8.109375 \nQ 21.484375 6.890625 26.8125 6.890625 \nQ 36.078125 6.890625 40.9375 10.546875 \nQ 45.796875 14.203125 45.796875 21.1875 \nQ 45.796875 27.640625 41.28125 31.265625 \nQ 36.765625 34.90625 28.71875 34.90625 \nL 20.21875 34.90625 \nL 20.21875 43.015625 \nL 29.109375 43.015625 \nQ 36.375 43.015625 40.234375 45.921875 \nQ 44.09375 48.828125 44.09375 54.296875 \nQ 44.09375 59.90625 40.109375 62.90625 \nQ 36.140625 65.921875 28.71875 65.921875 \nQ 24.65625 65.921875 20.015625 65.03125 \nQ 15.375 64.15625 9.8125 62.3125 \nL 9.8125 71.09375 \nQ 15.4375 72.65625 20.34375 73.4375 \nQ 25.25 74.21875 29.59375 74.21875 \nQ 40.828125 74.21875 47.359375 69.109375 \nQ 53.90625 64.015625 53.90625 55.328125 \nQ 53.90625 49.265625 50.4375 45.09375 \nQ 46.96875 40.921875 40.578125 39.3125 \nz\n\" id=\"DejaVuSans-51\"/>\n       </defs>\n       <use xlink:href=\"#DejaVuSans-51\"/>\n      </g>\n     </g>\n    </g>\n    <g id=\"xtick_5\">\n     <g id=\"line2d_5\">\n      <g>\n       <use style=\"stroke:#000000;stroke-width:0.8;\" x=\"199.1225\" xlink:href=\"#mae3b2d0916\" y=\"228.439219\"/>\n      </g>\n     </g>\n     <g id=\"text_5\">\n      <!-- 4 -->\n      <g transform=\"translate(195.94125 243.037656)scale(0.1 -0.1)\">\n       <defs>\n        <path d=\"M 37.796875 64.3125 \nL 12.890625 25.390625 \nL 37.796875 25.390625 \nz\nM 35.203125 72.90625 \nL 47.609375 72.90625 \nL 47.609375 25.390625 \nL 58.015625 25.390625 \nL 58.015625 17.1875 \nL 47.609375 17.1875 \nL 47.609375 0 \nL 37.796875 0 \nL 37.796875 17.1875 \nL 4.890625 17.1875 \nL 4.890625 26.703125 \nz\n\" id=\"DejaVuSans-52\"/>\n       </defs>\n       <use xlink:href=\"#DejaVuSans-52\"/>\n      </g>\n     </g>\n    </g>\n    <g id=\"xtick_6\">\n     <g id=\"line2d_6\">\n      <g>\n       <use style=\"stroke:#000000;stroke-width:0.8;\" x=\"243.7625\" xlink:href=\"#mae3b2d0916\" y=\"228.439219\"/>\n      </g>\n     </g>\n     <g id=\"text_6\">\n      <!-- 5 -->\n      <g transform=\"translate(240.58125 243.037656)scale(0.1 -0.1)\">\n       <defs>\n        <path d=\"M 10.796875 72.90625 \nL 49.515625 72.90625 \nL 49.515625 64.59375 \nL 19.828125 64.59375 \nL 19.828125 46.734375 \nQ 21.96875 47.46875 24.109375 47.828125 \nQ 26.265625 48.1875 28.421875 48.1875 \nQ 40.625 48.1875 47.75 41.5 \nQ 54.890625 34.8125 54.890625 23.390625 \nQ 54.890625 11.625 47.5625 5.09375 \nQ 40.234375 -1.421875 26.90625 -1.421875 \nQ 22.3125 -1.421875 17.546875 -0.640625 \nQ 12.796875 0.140625 7.71875 1.703125 \nL 7.71875 11.625 \nQ 12.109375 9.234375 16.796875 8.0625 \nQ 21.484375 6.890625 26.703125 6.890625 \nQ 35.15625 6.890625 40.078125 11.328125 \nQ 45.015625 15.765625 45.015625 23.390625 \nQ 45.015625 31 40.078125 35.4375 \nQ 35.15625 39.890625 26.703125 39.890625 \nQ 22.75 39.890625 18.8125 39.015625 \nQ 14.890625 38.140625 10.796875 36.28125 \nz\n\" id=\"DejaVuSans-53\"/>\n       </defs>\n       <use xlink:href=\"#DejaVuSans-53\"/>\n      </g>\n     </g>\n    </g>\n    <g id=\"xtick_7\">\n     <g id=\"line2d_7\">\n      <g>\n       <use style=\"stroke:#000000;stroke-width:0.8;\" x=\"288.4025\" xlink:href=\"#mae3b2d0916\" y=\"228.439219\"/>\n      </g>\n     </g>\n     <g id=\"text_7\">\n      <!-- 6 -->\n      <g transform=\"translate(285.22125 243.037656)scale(0.1 -0.1)\">\n       <defs>\n        <path d=\"M 33.015625 40.375 \nQ 26.375 40.375 22.484375 35.828125 \nQ 18.609375 31.296875 18.609375 23.390625 \nQ 18.609375 15.53125 22.484375 10.953125 \nQ 26.375 6.390625 33.015625 6.390625 \nQ 39.65625 6.390625 43.53125 10.953125 \nQ 47.40625 15.53125 47.40625 23.390625 \nQ 47.40625 31.296875 43.53125 35.828125 \nQ 39.65625 40.375 33.015625 40.375 \nz\nM 52.59375 71.296875 \nL 52.59375 62.3125 \nQ 48.875 64.0625 45.09375 64.984375 \nQ 41.3125 65.921875 37.59375 65.921875 \nQ 27.828125 65.921875 22.671875 59.328125 \nQ 17.53125 52.734375 16.796875 39.40625 \nQ 19.671875 43.65625 24.015625 45.921875 \nQ 28.375 48.1875 33.59375 48.1875 \nQ 44.578125 48.1875 50.953125 41.515625 \nQ 57.328125 34.859375 57.328125 23.390625 \nQ 57.328125 12.15625 50.6875 5.359375 \nQ 44.046875 -1.421875 33.015625 -1.421875 \nQ 20.359375 -1.421875 13.671875 8.265625 \nQ 6.984375 17.96875 6.984375 36.375 \nQ 6.984375 53.65625 15.1875 63.9375 \nQ 23.390625 74.21875 37.203125 74.21875 \nQ 40.921875 74.21875 44.703125 73.484375 \nQ 48.484375 72.75 52.59375 71.296875 \nz\n\" id=\"DejaVuSans-54\"/>\n       </defs>\n       <use xlink:href=\"#DejaVuSans-54\"/>\n      </g>\n     </g>\n    </g>\n   </g>\n   <g id=\"matplotlib.axis_2\">\n    <g id=\"ytick_1\">\n     <g id=\"line2d_8\">\n      <defs>\n       <path d=\"M 0 0 \nL -3.5 0 \n\" id=\"mf5aa0db4e7\" style=\"stroke:#000000;stroke-width:0.8;\"/>\n      </defs>\n      <g>\n       <use style=\"stroke:#000000;stroke-width:0.8;\" x=\"20.5625\" xlink:href=\"#mf5aa0db4e7\" y=\"228.439219\"/>\n      </g>\n     </g>\n     <g id=\"text_8\">\n      <!-- 0 -->\n      <g transform=\"translate(7.2 232.238437)scale(0.1 -0.1)\">\n       <use xlink:href=\"#DejaVuSans-48\"/>\n      </g>\n     </g>\n    </g>\n    <g id=\"ytick_2\">\n     <g id=\"line2d_9\">\n      <g>\n       <use style=\"stroke:#000000;stroke-width:0.8;\" x=\"20.5625\" xlink:href=\"#mf5aa0db4e7\" y=\"192.199219\"/>\n      </g>\n     </g>\n     <g id=\"text_9\">\n      <!-- 1 -->\n      <g transform=\"translate(7.2 195.998437)scale(0.1 -0.1)\">\n       <use xlink:href=\"#DejaVuSans-49\"/>\n      </g>\n     </g>\n    </g>\n    <g id=\"ytick_3\">\n     <g id=\"line2d_10\">\n      <g>\n       <use style=\"stroke:#000000;stroke-width:0.8;\" x=\"20.5625\" xlink:href=\"#mf5aa0db4e7\" y=\"155.959219\"/>\n      </g>\n     </g>\n     <g id=\"text_10\">\n      <!-- 2 -->\n      <g transform=\"translate(7.2 159.758437)scale(0.1 -0.1)\">\n       <use xlink:href=\"#DejaVuSans-50\"/>\n      </g>\n     </g>\n    </g>\n    <g id=\"ytick_4\">\n     <g id=\"line2d_11\">\n      <g>\n       <use style=\"stroke:#000000;stroke-width:0.8;\" x=\"20.5625\" xlink:href=\"#mf5aa0db4e7\" y=\"119.719219\"/>\n      </g>\n     </g>\n     <g id=\"text_11\">\n      <!-- 3 -->\n      <g transform=\"translate(7.2 123.518438)scale(0.1 -0.1)\">\n       <use xlink:href=\"#DejaVuSans-51\"/>\n      </g>\n     </g>\n    </g>\n    <g id=\"ytick_5\">\n     <g id=\"line2d_12\">\n      <g>\n       <use style=\"stroke:#000000;stroke-width:0.8;\" x=\"20.5625\" xlink:href=\"#mf5aa0db4e7\" y=\"83.479219\"/>\n      </g>\n     </g>\n     <g id=\"text_12\">\n      <!-- 4 -->\n      <g transform=\"translate(7.2 87.278437)scale(0.1 -0.1)\">\n       <use xlink:href=\"#DejaVuSans-52\"/>\n      </g>\n     </g>\n    </g>\n    <g id=\"ytick_6\">\n     <g id=\"line2d_13\">\n      <g>\n       <use style=\"stroke:#000000;stroke-width:0.8;\" x=\"20.5625\" xlink:href=\"#mf5aa0db4e7\" y=\"47.239219\"/>\n      </g>\n     </g>\n     <g id=\"text_13\">\n      <!-- 5 -->\n      <g transform=\"translate(7.2 51.038437)scale(0.1 -0.1)\">\n       <use xlink:href=\"#DejaVuSans-53\"/>\n      </g>\n     </g>\n    </g>\n    <g id=\"ytick_7\">\n     <g id=\"line2d_14\">\n      <g>\n       <use style=\"stroke:#000000;stroke-width:0.8;\" x=\"20.5625\" xlink:href=\"#mf5aa0db4e7\" y=\"10.999219\"/>\n      </g>\n     </g>\n     <g id=\"text_14\">\n      <!-- 6 -->\n      <g transform=\"translate(7.2 14.798438)scale(0.1 -0.1)\">\n       <use xlink:href=\"#DejaVuSans-54\"/>\n      </g>\n     </g>\n    </g>\n   </g>\n   <g id=\"patch_3\">\n    <path d=\"M 20.5625 228.439219 \nL 20.5625 10.999219 \n\" style=\"fill:none;stroke:#000000;stroke-linecap:square;stroke-linejoin:miter;stroke-width:0.8;\"/>\n   </g>\n   <g id=\"patch_4\">\n    <path d=\"M 288.4025 228.439219 \nL 288.4025 10.999219 \n\" style=\"fill:none;stroke:#000000;stroke-linecap:square;stroke-linejoin:miter;stroke-width:0.8;\"/>\n   </g>\n   <g id=\"patch_5\">\n    <path d=\"M 20.5625 228.439219 \nL 288.4025 228.439219 \n\" style=\"fill:none;stroke:#000000;stroke-linecap:square;stroke-linejoin:miter;stroke-width:0.8;\"/>\n   </g>\n   <g id=\"patch_6\">\n    <path d=\"M 20.5625 10.999219 \nL 288.4025 10.999219 \n\" style=\"fill:none;stroke:#000000;stroke-linecap:square;stroke-linejoin:miter;stroke-width:0.8;\"/>\n   </g>\n  </g>\n  <g id=\"axes_2\">\n   <g id=\"patch_7\">\n    <path clip-path=\"url(#pa4364b9a80)\" d=\"M 305.1425 228.439219 \nL 305.1425 227.589844 \nL 305.1425 11.848594 \nL 305.1425 10.999219 \nL 316.0145 10.999219 \nL 316.0145 11.848594 \nL 316.0145 227.589844 \nL 316.0145 228.439219 \nz\n\" style=\"fill:#ffffff;stroke:#ffffff;stroke-linejoin:miter;stroke-width:0.01;\"/>\n   </g>\n   <image height=\"217\" id=\"imageb561e545ec\" transform=\"scale(1 -1)translate(0 -217)\" width=\"11\" x=\"305\" xlink:href=\"data:image/png;base64,\niVBORw0KGgoAAAANSUhEUgAAAAsAAADZCAYAAAD2WsoCAAABKElEQVR4nO2ZSwrEMAxDU+j9rzqbLpt4rpA38Aa5tGsjZElRf0ddnxqb1znG9uw4R3nDy0JmC27PqjQWUUNzsESdO2aj4XDIgiz806KBjlVGRAupwRbMUIMtGGGKiDxR+C27WfO/dv+MLNrdsBiZGl5EvQU79vPT7Q45KSFV4KnhSSfW16vGP4ZLrIIM6UKyESKdqLP2fQMhsxt9wwXZrU179WAPJ+i92+u6DFPEBYndGg1ROlGN7VnIGcyayIuYsrwFWTYAMlqQIXe0m3SdSCNDOi8bXvjBLNV5H5hmgyCDxqWpI389GGdkt0YDqTEzaDBkwhlUnUkDRhTRIMheFWTQuLUqgKeb0NA4MzUypEPhR8h3CmdCgyAju9kzEqERIh2sAosGQf4C+hK85F6OzJMAAAAASUVORK5CYII=\" y=\"-11\"/>\n   <g id=\"matplotlib.axis_3\"/>\n   <g id=\"matplotlib.axis_4\">\n    <g id=\"ytick_8\">\n     <g id=\"line2d_15\">\n      <defs>\n       <path d=\"M 0 0 \nL 3.5 0 \n\" id=\"mad1f02268f\" style=\"stroke:#000000;stroke-width:0.8;\"/>\n      </defs>\n      <g>\n       <use style=\"stroke:#000000;stroke-width:0.8;\" x=\"316.0145\" xlink:href=\"#mad1f02268f\" y=\"202.940103\"/>\n      </g>\n     </g>\n     <g id=\"text_15\">\n      <!-- 0.3 -->\n      <g transform=\"translate(323.0145 206.739322)scale(0.1 -0.1)\">\n       <defs>\n        <path d=\"M 10.6875 12.40625 \nL 21 12.40625 \nL 21 0 \nL 10.6875 0 \nz\n\" id=\"DejaVuSans-46\"/>\n       </defs>\n       <use xlink:href=\"#DejaVuSans-48\"/>\n       <use x=\"63.623047\" xlink:href=\"#DejaVuSans-46\"/>\n       <use x=\"95.410156\" xlink:href=\"#DejaVuSans-51\"/>\n      </g>\n     </g>\n    </g>\n    <g id=\"ytick_9\">\n     <g id=\"line2d_16\">\n      <g>\n       <use style=\"stroke:#000000;stroke-width:0.8;\" x=\"316.0145\" xlink:href=\"#mad1f02268f\" y=\"175.519977\"/>\n      </g>\n     </g>\n     <g id=\"text_16\">\n      <!-- 0.4 -->\n      <g transform=\"translate(323.0145 179.319195)scale(0.1 -0.1)\">\n       <use xlink:href=\"#DejaVuSans-48\"/>\n       <use x=\"63.623047\" xlink:href=\"#DejaVuSans-46\"/>\n       <use x=\"95.410156\" xlink:href=\"#DejaVuSans-52\"/>\n      </g>\n     </g>\n    </g>\n    <g id=\"ytick_10\">\n     <g id=\"line2d_17\">\n      <g>\n       <use style=\"stroke:#000000;stroke-width:0.8;\" x=\"316.0145\" xlink:href=\"#mad1f02268f\" y=\"148.09985\"/>\n      </g>\n     </g>\n     <g id=\"text_17\">\n      <!-- 0.5 -->\n      <g transform=\"translate(323.0145 151.899069)scale(0.1 -0.1)\">\n       <use xlink:href=\"#DejaVuSans-48\"/>\n       <use x=\"63.623047\" xlink:href=\"#DejaVuSans-46\"/>\n       <use x=\"95.410156\" xlink:href=\"#DejaVuSans-53\"/>\n      </g>\n     </g>\n    </g>\n    <g id=\"ytick_11\">\n     <g id=\"line2d_18\">\n      <g>\n       <use style=\"stroke:#000000;stroke-width:0.8;\" x=\"316.0145\" xlink:href=\"#mad1f02268f\" y=\"120.679724\"/>\n      </g>\n     </g>\n     <g id=\"text_18\">\n      <!-- 0.6 -->\n      <g transform=\"translate(323.0145 124.478943)scale(0.1 -0.1)\">\n       <use xlink:href=\"#DejaVuSans-48\"/>\n       <use x=\"63.623047\" xlink:href=\"#DejaVuSans-46\"/>\n       <use x=\"95.410156\" xlink:href=\"#DejaVuSans-54\"/>\n      </g>\n     </g>\n    </g>\n    <g id=\"ytick_12\">\n     <g id=\"line2d_19\">\n      <g>\n       <use style=\"stroke:#000000;stroke-width:0.8;\" x=\"316.0145\" xlink:href=\"#mad1f02268f\" y=\"93.259598\"/>\n      </g>\n     </g>\n     <g id=\"text_19\">\n      <!-- 0.7 -->\n      <g transform=\"translate(323.0145 97.058816)scale(0.1 -0.1)\">\n       <defs>\n        <path d=\"M 8.203125 72.90625 \nL 55.078125 72.90625 \nL 55.078125 68.703125 \nL 28.609375 0 \nL 18.3125 0 \nL 43.21875 64.59375 \nL 8.203125 64.59375 \nz\n\" id=\"DejaVuSans-55\"/>\n       </defs>\n       <use xlink:href=\"#DejaVuSans-48\"/>\n       <use x=\"63.623047\" xlink:href=\"#DejaVuSans-46\"/>\n       <use x=\"95.410156\" xlink:href=\"#DejaVuSans-55\"/>\n      </g>\n     </g>\n    </g>\n    <g id=\"ytick_13\">\n     <g id=\"line2d_20\">\n      <g>\n       <use style=\"stroke:#000000;stroke-width:0.8;\" x=\"316.0145\" xlink:href=\"#mad1f02268f\" y=\"65.839471\"/>\n      </g>\n     </g>\n     <g id=\"text_20\">\n      <!-- 0.8 -->\n      <g transform=\"translate(323.0145 69.63869)scale(0.1 -0.1)\">\n       <defs>\n        <path d=\"M 31.78125 34.625 \nQ 24.75 34.625 20.71875 30.859375 \nQ 16.703125 27.09375 16.703125 20.515625 \nQ 16.703125 13.921875 20.71875 10.15625 \nQ 24.75 6.390625 31.78125 6.390625 \nQ 38.8125 6.390625 42.859375 10.171875 \nQ 46.921875 13.96875 46.921875 20.515625 \nQ 46.921875 27.09375 42.890625 30.859375 \nQ 38.875 34.625 31.78125 34.625 \nz\nM 21.921875 38.8125 \nQ 15.578125 40.375 12.03125 44.71875 \nQ 8.5 49.078125 8.5 55.328125 \nQ 8.5 64.0625 14.71875 69.140625 \nQ 20.953125 74.21875 31.78125 74.21875 \nQ 42.671875 74.21875 48.875 69.140625 \nQ 55.078125 64.0625 55.078125 55.328125 \nQ 55.078125 49.078125 51.53125 44.71875 \nQ 48 40.375 41.703125 38.8125 \nQ 48.828125 37.15625 52.796875 32.3125 \nQ 56.78125 27.484375 56.78125 20.515625 \nQ 56.78125 9.90625 50.3125 4.234375 \nQ 43.84375 -1.421875 31.78125 -1.421875 \nQ 19.734375 -1.421875 13.25 4.234375 \nQ 6.78125 9.90625 6.78125 20.515625 \nQ 6.78125 27.484375 10.78125 32.3125 \nQ 14.796875 37.15625 21.921875 38.8125 \nz\nM 18.3125 54.390625 \nQ 18.3125 48.734375 21.84375 45.5625 \nQ 25.390625 42.390625 31.78125 42.390625 \nQ 38.140625 42.390625 41.71875 45.5625 \nQ 45.3125 48.734375 45.3125 54.390625 \nQ 45.3125 60.0625 41.71875 63.234375 \nQ 38.140625 66.40625 31.78125 66.40625 \nQ 25.390625 66.40625 21.84375 63.234375 \nQ 18.3125 60.0625 18.3125 54.390625 \nz\n\" id=\"DejaVuSans-56\"/>\n       </defs>\n       <use xlink:href=\"#DejaVuSans-48\"/>\n       <use x=\"63.623047\" xlink:href=\"#DejaVuSans-46\"/>\n       <use x=\"95.410156\" xlink:href=\"#DejaVuSans-56\"/>\n      </g>\n     </g>\n    </g>\n    <g id=\"ytick_14\">\n     <g id=\"line2d_21\">\n      <g>\n       <use style=\"stroke:#000000;stroke-width:0.8;\" x=\"316.0145\" xlink:href=\"#mad1f02268f\" y=\"38.419345\"/>\n      </g>\n     </g>\n     <g id=\"text_21\">\n      <!-- 0.9 -->\n      <g transform=\"translate(323.0145 42.218564)scale(0.1 -0.1)\">\n       <defs>\n        <path d=\"M 10.984375 1.515625 \nL 10.984375 10.5 \nQ 14.703125 8.734375 18.5 7.8125 \nQ 22.3125 6.890625 25.984375 6.890625 \nQ 35.75 6.890625 40.890625 13.453125 \nQ 46.046875 20.015625 46.78125 33.40625 \nQ 43.953125 29.203125 39.59375 26.953125 \nQ 35.25 24.703125 29.984375 24.703125 \nQ 19.046875 24.703125 12.671875 31.3125 \nQ 6.296875 37.9375 6.296875 49.421875 \nQ 6.296875 60.640625 12.9375 67.421875 \nQ 19.578125 74.21875 30.609375 74.21875 \nQ 43.265625 74.21875 49.921875 64.515625 \nQ 56.59375 54.828125 56.59375 36.375 \nQ 56.59375 19.140625 48.40625 8.859375 \nQ 40.234375 -1.421875 26.421875 -1.421875 \nQ 22.703125 -1.421875 18.890625 -0.6875 \nQ 15.09375 0.046875 10.984375 1.515625 \nz\nM 30.609375 32.421875 \nQ 37.25 32.421875 41.125 36.953125 \nQ 45.015625 41.5 45.015625 49.421875 \nQ 45.015625 57.28125 41.125 61.84375 \nQ 37.25 66.40625 30.609375 66.40625 \nQ 23.96875 66.40625 20.09375 61.84375 \nQ 16.21875 57.28125 16.21875 49.421875 \nQ 16.21875 41.5 20.09375 36.953125 \nQ 23.96875 32.421875 30.609375 32.421875 \nz\n\" id=\"DejaVuSans-57\"/>\n       </defs>\n       <use xlink:href=\"#DejaVuSans-48\"/>\n       <use x=\"63.623047\" xlink:href=\"#DejaVuSans-46\"/>\n       <use x=\"95.410156\" xlink:href=\"#DejaVuSans-57\"/>\n      </g>\n     </g>\n    </g>\n    <g id=\"ytick_15\">\n     <g id=\"line2d_22\">\n      <g>\n       <use style=\"stroke:#000000;stroke-width:0.8;\" x=\"316.0145\" xlink:href=\"#mad1f02268f\" y=\"10.999219\"/>\n      </g>\n     </g>\n     <g id=\"text_22\">\n      <!-- 1.0 -->\n      <g transform=\"translate(323.0145 14.798437)scale(0.1 -0.1)\">\n       <use xlink:href=\"#DejaVuSans-49\"/>\n       <use x=\"63.623047\" xlink:href=\"#DejaVuSans-46\"/>\n       <use x=\"95.410156\" xlink:href=\"#DejaVuSans-48\"/>\n      </g>\n     </g>\n    </g>\n   </g>\n   <g id=\"patch_8\">\n    <path d=\"M 305.1425 228.439219 \nL 305.1425 227.589844 \nL 305.1425 11.848594 \nL 305.1425 10.999219 \nL 316.0145 10.999219 \nL 316.0145 11.848594 \nL 316.0145 227.589844 \nL 316.0145 228.439219 \nz\n\" style=\"fill:none;stroke:#000000;stroke-linejoin:miter;stroke-width:0.8;\"/>\n   </g>\n  </g>\n </g>\n <defs>\n  <clipPath id=\"p48cb7341f9\">\n   <rect height=\"217.44\" width=\"267.84\" x=\"20.5625\" y=\"10.999219\"/>\n  </clipPath>\n  <clipPath id=\"pa4364b9a80\">\n   <rect height=\"217.44\" width=\"10.872\" x=\"305.1425\" y=\"10.999219\"/>\n  </clipPath>\n </defs>\n</svg>\n",
      "image/png": "[encoded data removed]"
     },
     "metadata": {
      "needs_background": "light"
     }
    }
   ],
   "source": [
    "from minisom import MiniSom    \n",
    "som_shape = (6, 6)\n",
    "som = MiniSom(som_shape[0], som_shape[1], corpus_data.shape[1], sigma=0.3, learning_rate=0.9, random_seed=149)\n",
    "som.train_random(corpus_data,num_iteration = 100, verbose = True)\n",
    "plt.figure()\n",
    "plt_plot = plt.pcolor(som.distance_map().T, cmap='Reds')\n",
    "plt.colorbar()\n",
    "plt.savefig('Som_heatmap.png')\n",
    "plt.show()"
   ]
  },
  {
   "cell_type": "code",
   "execution_count": 57,
   "metadata": {
    "tags": []
   },
   "outputs": [
    {
     "output_type": "stream",
     "name": "stdout",
     "text": [
      "Counter({(5, 5): 1783, (3, 1): 143, (3, 3): 127, (3, 0): 109, (4, 2): 107, (3, 2): 105, (0, 3): 103, (0, 0): 89, (5, 3): 86, (3, 5): 81, (4, 5): 80, (4, 1): 70, (1, 2): 69, (0, 2): 69, (2, 3): 61, (2, 2): 57, (1, 0): 55, (3, 4): 46, (2, 5): 43, (2, 1): 40, (0, 5): 35, (5, 0): 32, (1, 5): 32, (1, 4): 31, (5, 1): 25, (2, 0): 23, (5, 2): 23, (0, 4): 21, (1, 1): 20, (4, 4): 20, (1, 3): 13, (4, 0): 11, (0, 1): 10, (4, 3): 7, (5, 4): 7, (2, 4): 6})\n"
     ]
    },
    {
     "output_type": "display_data",
     "data": {
      "text/plain": "<Figure size 432x288 with 1 Axes>",
      "image/svg+xml": "<?xml version=\"1.0\" encoding=\"utf-8\" standalone=\"no\"?>\n<!DOCTYPE svg PUBLIC \"-//W3C//DTD SVG 1.1//EN\"\n  \"http://www.w3.org/Graphics/SVG/1.1/DTD/svg11.dtd\">\n<!-- Created with matplotlib (https://matplotlib.org/) -->\n<svg height=\"252.317344pt\" version=\"1.1\" viewBox=\"0 0 365.74375 252.317344\" width=\"365.74375pt\" xmlns=\"http://www.w3.org/2000/svg\" xmlns:xlink=\"http://www.w3.org/1999/xlink\">\n <metadata>\n  <rdf:RDF xmlns:cc=\"http://creativecommons.org/ns#\" xmlns:dc=\"http://purl.org/dc/elements/1.1/\" xmlns:rdf=\"http://www.w3.org/1999/02/22-rdf-syntax-ns#\">\n   <cc:Work>\n    <dc:type rdf:resource=\"http://purl.org/dc/dcmitype/StillImage\"/>\n    <dc:date>2020-12-07T13:40:33.784761</dc:date>\n    <dc:format>image/svg+xml</dc:format>\n    <dc:creator>\n     <cc:Agent>\n      <dc:title>Matplotlib v3.3.3, https://matplotlib.org/</dc:title>\n     </cc:Agent>\n    </dc:creator>\n   </cc:Work>\n  </rdf:RDF>\n </metadata>\n <defs>\n  <style type=\"text/css\">*{stroke-linecap:butt;stroke-linejoin:round;}</style>\n </defs>\n <g id=\"figure_1\">\n  <g id=\"patch_1\">\n   <path d=\"M 0 252.317344 \nL 365.74375 252.317344 \nL 365.74375 0 \nL 0 0 \nz\n\" style=\"fill:none;\"/>\n  </g>\n  <g id=\"axes_1\">\n   <g id=\"patch_2\">\n    <path d=\"M 20.5625 228.439219 \nL 355.3625 228.439219 \nL 355.3625 10.999219 \nL 20.5625 10.999219 \nz\n\" style=\"fill:#ffffff;\"/>\n   </g>\n   <g id=\"PolyCollection_1\">\n    <path clip-path=\"url(#pc843b13838)\" d=\"M 20.5625 228.439219 \nL 20.5625 192.199219 \nL 76.3625 192.199219 \nL 76.3625 228.439219 \nL 20.5625 228.439219 \nz\n\" style=\"fill:#fc9474;\"/>\n    <path clip-path=\"url(#pc843b13838)\" d=\"M 76.3625 228.439219 \nL 76.3625 192.199219 \nL 132.1625 192.199219 \nL 132.1625 228.439219 \nL 76.3625 228.439219 \nz\n\" style=\"fill:#f5523a;\"/>\n    <path clip-path=\"url(#pc843b13838)\" d=\"M 132.1625 228.439219 \nL 132.1625 192.199219 \nL 187.9625 192.199219 \nL 187.9625 228.439219 \nL 132.1625 228.439219 \nz\n\" style=\"fill:#fcb79c;\"/>\n    <path clip-path=\"url(#pc843b13838)\" d=\"M 187.9625 228.439219 \nL 187.9625 192.199219 \nL 243.7625 192.199219 \nL 243.7625 228.439219 \nL 187.9625 228.439219 \nz\n\" style=\"fill:#fcb296;\"/>\n    <path clip-path=\"url(#pc843b13838)\" d=\"M 243.7625 228.439219 \nL 243.7625 192.199219 \nL 299.5625 192.199219 \nL 299.5625 228.439219 \nL 243.7625 228.439219 \nz\n\" style=\"fill:#fdc9b3;\"/>\n    <path clip-path=\"url(#pc843b13838)\" d=\"M 299.5625 228.439219 \nL 299.5625 192.199219 \nL 355.3625 192.199219 \nL 355.3625 228.439219 \nL 299.5625 228.439219 \nz\n\" style=\"fill:#fee9df;\"/>\n    <path clip-path=\"url(#pc843b13838)\" d=\"M 20.5625 192.199219 \nL 20.5625 155.959219 \nL 76.3625 155.959219 \nL 76.3625 192.199219 \nL 20.5625 192.199219 \nz\n\" style=\"fill:#de2b25;\"/>\n    <path clip-path=\"url(#pc843b13838)\" d=\"M 76.3625 192.199219 \nL 76.3625 155.959219 \nL 132.1625 155.959219 \nL 132.1625 192.199219 \nL 76.3625 192.199219 \nz\n\" style=\"fill:#f34c37;\"/>\n    <path clip-path=\"url(#pc843b13838)\" d=\"M 132.1625 192.199219 \nL 132.1625 155.959219 \nL 187.9625 155.959219 \nL 187.9625 192.199219 \nL 132.1625 192.199219 \nz\n\" style=\"fill:#b31218;\"/>\n    <path clip-path=\"url(#pc843b13838)\" d=\"M 187.9625 192.199219 \nL 187.9625 155.959219 \nL 243.7625 155.959219 \nL 243.7625 192.199219 \nL 187.9625 192.199219 \nz\n\" style=\"fill:#fc8464;\"/>\n    <path clip-path=\"url(#pc843b13838)\" d=\"M 243.7625 192.199219 \nL 243.7625 155.959219 \nL 299.5625 155.959219 \nL 299.5625 192.199219 \nL 243.7625 192.199219 \nz\n\" style=\"fill:#e93529;\"/>\n    <path clip-path=\"url(#pc843b13838)\" d=\"M 299.5625 192.199219 \nL 299.5625 155.959219 \nL 355.3625 155.959219 \nL 355.3625 192.199219 \nL 299.5625 192.199219 \nz\n\" style=\"fill:#fdc9b3;\"/>\n    <path clip-path=\"url(#pc843b13838)\" d=\"M 20.5625 155.959219 \nL 20.5625 119.719219 \nL 76.3625 119.719219 \nL 76.3625 155.959219 \nL 20.5625 155.959219 \nz\n\" style=\"fill:#fedaca;\"/>\n    <path clip-path=\"url(#pc843b13838)\" d=\"M 76.3625 155.959219 \nL 76.3625 119.719219 \nL 132.1625 119.719219 \nL 132.1625 155.959219 \nL 76.3625 155.959219 \nz\n\" style=\"fill:#940b13;\"/>\n    <path clip-path=\"url(#pc843b13838)\" d=\"M 132.1625 155.959219 \nL 132.1625 119.719219 \nL 187.9625 119.719219 \nL 187.9625 155.959219 \nL 132.1625 155.959219 \nz\n\" style=\"fill:#fc9777;\"/>\n    <path clip-path=\"url(#pc843b13838)\" d=\"M 187.9625 155.959219 \nL 187.9625 119.719219 \nL 243.7625 119.719219 \nL 243.7625 155.959219 \nL 187.9625 155.959219 \nz\n\" style=\"fill:#b71319;\"/>\n    <path clip-path=\"url(#pc843b13838)\" d=\"M 243.7625 155.959219 \nL 243.7625 119.719219 \nL 299.5625 119.719219 \nL 299.5625 155.959219 \nL 243.7625 155.959219 \nz\n\" style=\"fill:#ea362a;\"/>\n    <path clip-path=\"url(#pc843b13838)\" d=\"M 299.5625 155.959219 \nL 299.5625 119.719219 \nL 355.3625 119.719219 \nL 355.3625 155.959219 \nL 299.5625 155.959219 \nz\n\" style=\"fill:#fca98c;\"/>\n    <path clip-path=\"url(#pc843b13838)\" d=\"M 20.5625 119.719219 \nL 20.5625 83.479219 \nL 76.3625 83.479219 \nL 76.3625 119.719219 \nL 20.5625 119.719219 \nz\n\" style=\"fill:#fdcebb;\"/>\n    <path clip-path=\"url(#pc843b13838)\" d=\"M 76.3625 119.719219 \nL 76.3625 83.479219 \nL 132.1625 83.479219 \nL 132.1625 119.719219 \nL 76.3625 119.719219 \nz\n\" style=\"fill:#fca183;\"/>\n    <path clip-path=\"url(#pc843b13838)\" d=\"M 132.1625 119.719219 \nL 132.1625 83.479219 \nL 187.9625 83.479219 \nL 187.9625 119.719219 \nL 132.1625 119.719219 \nz\n\" style=\"fill:#a60f15;\"/>\n    <path clip-path=\"url(#pc843b13838)\" d=\"M 187.9625 119.719219 \nL 187.9625 83.479219 \nL 243.7625 83.479219 \nL 243.7625 119.719219 \nL 187.9625 119.719219 \nz\n\" style=\"fill:#e53228;\"/>\n    <path clip-path=\"url(#pc843b13838)\" d=\"M 243.7625 119.719219 \nL 243.7625 83.479219 \nL 299.5625 83.479219 \nL 299.5625 119.719219 \nL 243.7625 119.719219 \nz\n\" style=\"fill:#75030f;\"/>\n    <path clip-path=\"url(#pc843b13838)\" d=\"M 299.5625 119.719219 \nL 299.5625 83.479219 \nL 355.3625 83.479219 \nL 355.3625 119.719219 \nL 299.5625 119.719219 \nz\n\" style=\"fill:#fb7252;\"/>\n    <path clip-path=\"url(#pc843b13838)\" d=\"M 20.5625 83.479219 \nL 20.5625 47.239219 \nL 76.3625 47.239219 \nL 76.3625 83.479219 \nL 20.5625 83.479219 \nz\n\" style=\"fill:#fee8dd;\"/>\n    <path clip-path=\"url(#pc843b13838)\" d=\"M 76.3625 83.479219 \nL 76.3625 47.239219 \nL 132.1625 47.239219 \nL 132.1625 83.479219 \nL 76.3625 83.479219 \nz\n\" style=\"fill:#e53228;\"/>\n    <path clip-path=\"url(#pc843b13838)\" d=\"M 132.1625 83.479219 \nL 132.1625 47.239219 \nL 187.9625 47.239219 \nL 187.9625 83.479219 \nL 132.1625 83.479219 \nz\n\" style=\"fill:#e22e27;\"/>\n    <path clip-path=\"url(#pc843b13838)\" d=\"M 187.9625 83.479219 \nL 187.9625 47.239219 \nL 243.7625 47.239219 \nL 243.7625 83.479219 \nL 187.9625 83.479219 \nz\n\" style=\"fill:#db2824;\"/>\n    <path clip-path=\"url(#pc843b13838)\" d=\"M 243.7625 83.479219 \nL 243.7625 47.239219 \nL 299.5625 47.239219 \nL 299.5625 83.479219 \nL 243.7625 83.479219 \nz\n\" style=\"fill:#67000d;\"/>\n    <path clip-path=\"url(#pc843b13838)\" d=\"M 299.5625 83.479219 \nL 299.5625 47.239219 \nL 355.3625 47.239219 \nL 355.3625 83.479219 \nL 299.5625 83.479219 \nz\n\" style=\"fill:#fcb296;\"/>\n    <path clip-path=\"url(#pc843b13838)\" d=\"M 20.5625 47.239219 \nL 20.5625 10.999219 \nL 76.3625 10.999219 \nL 76.3625 47.239219 \nL 20.5625 47.239219 \nz\n\" style=\"fill:#fdd1be;\"/>\n    <path clip-path=\"url(#pc843b13838)\" d=\"M 76.3625 47.239219 \nL 76.3625 10.999219 \nL 132.1625 10.999219 \nL 132.1625 47.239219 \nL 76.3625 47.239219 \nz\n\" style=\"fill:#fedecf;\"/>\n    <path clip-path=\"url(#pc843b13838)\" d=\"M 132.1625 47.239219 \nL 132.1625 10.999219 \nL 187.9625 10.999219 \nL 187.9625 47.239219 \nL 132.1625 47.239219 \nz\n\" style=\"fill:#fedccd;\"/>\n    <path clip-path=\"url(#pc843b13838)\" d=\"M 187.9625 47.239219 \nL 187.9625 10.999219 \nL 243.7625 10.999219 \nL 243.7625 47.239219 \nL 187.9625 47.239219 \nz\n\" style=\"fill:#fdcab5;\"/>\n    <path clip-path=\"url(#pc843b13838)\" d=\"M 243.7625 47.239219 \nL 243.7625 10.999219 \nL 299.5625 10.999219 \nL 299.5625 47.239219 \nL 243.7625 47.239219 \nz\n\" style=\"fill:#fdc6b0;\"/>\n    <path clip-path=\"url(#pc843b13838)\" d=\"M 299.5625 47.239219 \nL 299.5625 10.999219 \nL 355.3625 10.999219 \nL 355.3625 47.239219 \nL 299.5625 47.239219 \nz\n\" style=\"fill:#fff5f0;\"/>\n   </g>\n   <g id=\"matplotlib.axis_1\">\n    <g id=\"xtick_1\">\n     <g id=\"line2d_1\">\n      <defs>\n       <path d=\"M 0 0 \nL 0 3.5 \n\" id=\"m732408d0dc\" style=\"stroke:#000000;stroke-width:0.8;\"/>\n      </defs>\n      <g>\n       <use style=\"stroke:#000000;stroke-width:0.8;\" x=\"20.5625\" xlink:href=\"#m732408d0dc\" y=\"228.439219\"/>\n      </g>\n     </g>\n     <g id=\"text_1\">\n      <!-- 0 -->\n      <g transform=\"translate(17.38125 243.037656)scale(0.1 -0.1)\">\n       <defs>\n        <path d=\"M 31.78125 66.40625 \nQ 24.171875 66.40625 20.328125 58.90625 \nQ 16.5 51.421875 16.5 36.375 \nQ 16.5 21.390625 20.328125 13.890625 \nQ 24.171875 6.390625 31.78125 6.390625 \nQ 39.453125 6.390625 43.28125 13.890625 \nQ 47.125 21.390625 47.125 36.375 \nQ 47.125 51.421875 43.28125 58.90625 \nQ 39.453125 66.40625 31.78125 66.40625 \nz\nM 31.78125 74.21875 \nQ 44.046875 74.21875 50.515625 64.515625 \nQ 56.984375 54.828125 56.984375 36.375 \nQ 56.984375 17.96875 50.515625 8.265625 \nQ 44.046875 -1.421875 31.78125 -1.421875 \nQ 19.53125 -1.421875 13.0625 8.265625 \nQ 6.59375 17.96875 6.59375 36.375 \nQ 6.59375 54.828125 13.0625 64.515625 \nQ 19.53125 74.21875 31.78125 74.21875 \nz\n\" id=\"DejaVuSans-48\"/>\n       </defs>\n       <use xlink:href=\"#DejaVuSans-48\"/>\n      </g>\n     </g>\n    </g>\n    <g id=\"xtick_2\">\n     <g id=\"line2d_2\">\n      <g>\n       <use style=\"stroke:#000000;stroke-width:0.8;\" x=\"76.3625\" xlink:href=\"#m732408d0dc\" y=\"228.439219\"/>\n      </g>\n     </g>\n     <g id=\"text_2\">\n      <!-- 1 -->\n      <g transform=\"translate(73.18125 243.037656)scale(0.1 -0.1)\">\n       <defs>\n        <path d=\"M 12.40625 8.296875 \nL 28.515625 8.296875 \nL 28.515625 63.921875 \nL 10.984375 60.40625 \nL 10.984375 69.390625 \nL 28.421875 72.90625 \nL 38.28125 72.90625 \nL 38.28125 8.296875 \nL 54.390625 8.296875 \nL 54.390625 0 \nL 12.40625 0 \nz\n\" id=\"DejaVuSans-49\"/>\n       </defs>\n       <use xlink:href=\"#DejaVuSans-49\"/>\n      </g>\n     </g>\n    </g>\n    <g id=\"xtick_3\">\n     <g id=\"line2d_3\">\n      <g>\n       <use style=\"stroke:#000000;stroke-width:0.8;\" x=\"132.1625\" xlink:href=\"#m732408d0dc\" y=\"228.439219\"/>\n      </g>\n     </g>\n     <g id=\"text_3\">\n      <!-- 2 -->\n      <g transform=\"translate(128.98125 243.037656)scale(0.1 -0.1)\">\n       <defs>\n        <path d=\"M 19.1875 8.296875 \nL 53.609375 8.296875 \nL 53.609375 0 \nL 7.328125 0 \nL 7.328125 8.296875 \nQ 12.9375 14.109375 22.625 23.890625 \nQ 32.328125 33.6875 34.8125 36.53125 \nQ 39.546875 41.84375 41.421875 45.53125 \nQ 43.3125 49.21875 43.3125 52.78125 \nQ 43.3125 58.59375 39.234375 62.25 \nQ 35.15625 65.921875 28.609375 65.921875 \nQ 23.96875 65.921875 18.8125 64.3125 \nQ 13.671875 62.703125 7.8125 59.421875 \nL 7.8125 69.390625 \nQ 13.765625 71.78125 18.9375 73 \nQ 24.125 74.21875 28.421875 74.21875 \nQ 39.75 74.21875 46.484375 68.546875 \nQ 53.21875 62.890625 53.21875 53.421875 \nQ 53.21875 48.921875 51.53125 44.890625 \nQ 49.859375 40.875 45.40625 35.40625 \nQ 44.1875 33.984375 37.640625 27.21875 \nQ 31.109375 20.453125 19.1875 8.296875 \nz\n\" id=\"DejaVuSans-50\"/>\n       </defs>\n       <use xlink:href=\"#DejaVuSans-50\"/>\n      </g>\n     </g>\n    </g>\n    <g id=\"xtick_4\">\n     <g id=\"line2d_4\">\n      <g>\n       <use style=\"stroke:#000000;stroke-width:0.8;\" x=\"187.9625\" xlink:href=\"#m732408d0dc\" y=\"228.439219\"/>\n      </g>\n     </g>\n     <g id=\"text_4\">\n      <!-- 3 -->\n      <g transform=\"translate(184.78125 243.037656)scale(0.1 -0.1)\">\n       <defs>\n        <path d=\"M 40.578125 39.3125 \nQ 47.65625 37.796875 51.625 33 \nQ 55.609375 28.21875 55.609375 21.1875 \nQ 55.609375 10.40625 48.1875 4.484375 \nQ 40.765625 -1.421875 27.09375 -1.421875 \nQ 22.515625 -1.421875 17.65625 -0.515625 \nQ 12.796875 0.390625 7.625 2.203125 \nL 7.625 11.71875 \nQ 11.71875 9.328125 16.59375 8.109375 \nQ 21.484375 6.890625 26.8125 6.890625 \nQ 36.078125 6.890625 40.9375 10.546875 \nQ 45.796875 14.203125 45.796875 21.1875 \nQ 45.796875 27.640625 41.28125 31.265625 \nQ 36.765625 34.90625 28.71875 34.90625 \nL 20.21875 34.90625 \nL 20.21875 43.015625 \nL 29.109375 43.015625 \nQ 36.375 43.015625 40.234375 45.921875 \nQ 44.09375 48.828125 44.09375 54.296875 \nQ 44.09375 59.90625 40.109375 62.90625 \nQ 36.140625 65.921875 28.71875 65.921875 \nQ 24.65625 65.921875 20.015625 65.03125 \nQ 15.375 64.15625 9.8125 62.3125 \nL 9.8125 71.09375 \nQ 15.4375 72.65625 20.34375 73.4375 \nQ 25.25 74.21875 29.59375 74.21875 \nQ 40.828125 74.21875 47.359375 69.109375 \nQ 53.90625 64.015625 53.90625 55.328125 \nQ 53.90625 49.265625 50.4375 45.09375 \nQ 46.96875 40.921875 40.578125 39.3125 \nz\n\" id=\"DejaVuSans-51\"/>\n       </defs>\n       <use xlink:href=\"#DejaVuSans-51\"/>\n      </g>\n     </g>\n    </g>\n    <g id=\"xtick_5\">\n     <g id=\"line2d_5\">\n      <g>\n       <use style=\"stroke:#000000;stroke-width:0.8;\" x=\"243.7625\" xlink:href=\"#m732408d0dc\" y=\"228.439219\"/>\n      </g>\n     </g>\n     <g id=\"text_5\">\n      <!-- 4 -->\n      <g transform=\"translate(240.58125 243.037656)scale(0.1 -0.1)\">\n       <defs>\n        <path d=\"M 37.796875 64.3125 \nL 12.890625 25.390625 \nL 37.796875 25.390625 \nz\nM 35.203125 72.90625 \nL 47.609375 72.90625 \nL 47.609375 25.390625 \nL 58.015625 25.390625 \nL 58.015625 17.1875 \nL 47.609375 17.1875 \nL 47.609375 0 \nL 37.796875 0 \nL 37.796875 17.1875 \nL 4.890625 17.1875 \nL 4.890625 26.703125 \nz\n\" id=\"DejaVuSans-52\"/>\n       </defs>\n       <use xlink:href=\"#DejaVuSans-52\"/>\n      </g>\n     </g>\n    </g>\n    <g id=\"xtick_6\">\n     <g id=\"line2d_6\">\n      <g>\n       <use style=\"stroke:#000000;stroke-width:0.8;\" x=\"299.5625\" xlink:href=\"#m732408d0dc\" y=\"228.439219\"/>\n      </g>\n     </g>\n     <g id=\"text_6\">\n      <!-- 5 -->\n      <g transform=\"translate(296.38125 243.037656)scale(0.1 -0.1)\">\n       <defs>\n        <path d=\"M 10.796875 72.90625 \nL 49.515625 72.90625 \nL 49.515625 64.59375 \nL 19.828125 64.59375 \nL 19.828125 46.734375 \nQ 21.96875 47.46875 24.109375 47.828125 \nQ 26.265625 48.1875 28.421875 48.1875 \nQ 40.625 48.1875 47.75 41.5 \nQ 54.890625 34.8125 54.890625 23.390625 \nQ 54.890625 11.625 47.5625 5.09375 \nQ 40.234375 -1.421875 26.90625 -1.421875 \nQ 22.3125 -1.421875 17.546875 -0.640625 \nQ 12.796875 0.140625 7.71875 1.703125 \nL 7.71875 11.625 \nQ 12.109375 9.234375 16.796875 8.0625 \nQ 21.484375 6.890625 26.703125 6.890625 \nQ 35.15625 6.890625 40.078125 11.328125 \nQ 45.015625 15.765625 45.015625 23.390625 \nQ 45.015625 31 40.078125 35.4375 \nQ 35.15625 39.890625 26.703125 39.890625 \nQ 22.75 39.890625 18.8125 39.015625 \nQ 14.890625 38.140625 10.796875 36.28125 \nz\n\" id=\"DejaVuSans-53\"/>\n       </defs>\n       <use xlink:href=\"#DejaVuSans-53\"/>\n      </g>\n     </g>\n    </g>\n    <g id=\"xtick_7\">\n     <g id=\"line2d_7\">\n      <g>\n       <use style=\"stroke:#000000;stroke-width:0.8;\" x=\"355.3625\" xlink:href=\"#m732408d0dc\" y=\"228.439219\"/>\n      </g>\n     </g>\n     <g id=\"text_7\">\n      <!-- 6 -->\n      <g transform=\"translate(352.18125 243.037656)scale(0.1 -0.1)\">\n       <defs>\n        <path d=\"M 33.015625 40.375 \nQ 26.375 40.375 22.484375 35.828125 \nQ 18.609375 31.296875 18.609375 23.390625 \nQ 18.609375 15.53125 22.484375 10.953125 \nQ 26.375 6.390625 33.015625 6.390625 \nQ 39.65625 6.390625 43.53125 10.953125 \nQ 47.40625 15.53125 47.40625 23.390625 \nQ 47.40625 31.296875 43.53125 35.828125 \nQ 39.65625 40.375 33.015625 40.375 \nz\nM 52.59375 71.296875 \nL 52.59375 62.3125 \nQ 48.875 64.0625 45.09375 64.984375 \nQ 41.3125 65.921875 37.59375 65.921875 \nQ 27.828125 65.921875 22.671875 59.328125 \nQ 17.53125 52.734375 16.796875 39.40625 \nQ 19.671875 43.65625 24.015625 45.921875 \nQ 28.375 48.1875 33.59375 48.1875 \nQ 44.578125 48.1875 50.953125 41.515625 \nQ 57.328125 34.859375 57.328125 23.390625 \nQ 57.328125 12.15625 50.6875 5.359375 \nQ 44.046875 -1.421875 33.015625 -1.421875 \nQ 20.359375 -1.421875 13.671875 8.265625 \nQ 6.984375 17.96875 6.984375 36.375 \nQ 6.984375 53.65625 15.1875 63.9375 \nQ 23.390625 74.21875 37.203125 74.21875 \nQ 40.921875 74.21875 44.703125 73.484375 \nQ 48.484375 72.75 52.59375 71.296875 \nz\n\" id=\"DejaVuSans-54\"/>\n       </defs>\n       <use xlink:href=\"#DejaVuSans-54\"/>\n      </g>\n     </g>\n    </g>\n   </g>\n   <g id=\"matplotlib.axis_2\">\n    <g id=\"ytick_1\">\n     <g id=\"line2d_8\">\n      <defs>\n       <path d=\"M 0 0 \nL -3.5 0 \n\" id=\"m000e6cb17c\" style=\"stroke:#000000;stroke-width:0.8;\"/>\n      </defs>\n      <g>\n       <use style=\"stroke:#000000;stroke-width:0.8;\" x=\"20.5625\" xlink:href=\"#m000e6cb17c\" y=\"228.439219\"/>\n      </g>\n     </g>\n     <g id=\"text_8\">\n      <!-- 0 -->\n      <g transform=\"translate(7.2 232.238437)scale(0.1 -0.1)\">\n       <use xlink:href=\"#DejaVuSans-48\"/>\n      </g>\n     </g>\n    </g>\n    <g id=\"ytick_2\">\n     <g id=\"line2d_9\">\n      <g>\n       <use style=\"stroke:#000000;stroke-width:0.8;\" x=\"20.5625\" xlink:href=\"#m000e6cb17c\" y=\"192.199219\"/>\n      </g>\n     </g>\n     <g id=\"text_9\">\n      <!-- 1 -->\n      <g transform=\"translate(7.2 195.998437)scale(0.1 -0.1)\">\n       <use xlink:href=\"#DejaVuSans-49\"/>\n      </g>\n     </g>\n    </g>\n    <g id=\"ytick_3\">\n     <g id=\"line2d_10\">\n      <g>\n       <use style=\"stroke:#000000;stroke-width:0.8;\" x=\"20.5625\" xlink:href=\"#m000e6cb17c\" y=\"155.959219\"/>\n      </g>\n     </g>\n     <g id=\"text_10\">\n      <!-- 2 -->\n      <g transform=\"translate(7.2 159.758437)scale(0.1 -0.1)\">\n       <use xlink:href=\"#DejaVuSans-50\"/>\n      </g>\n     </g>\n    </g>\n    <g id=\"ytick_4\">\n     <g id=\"line2d_11\">\n      <g>\n       <use style=\"stroke:#000000;stroke-width:0.8;\" x=\"20.5625\" xlink:href=\"#m000e6cb17c\" y=\"119.719219\"/>\n      </g>\n     </g>\n     <g id=\"text_11\">\n      <!-- 3 -->\n      <g transform=\"translate(7.2 123.518437)scale(0.1 -0.1)\">\n       <use xlink:href=\"#DejaVuSans-51\"/>\n      </g>\n     </g>\n    </g>\n    <g id=\"ytick_5\">\n     <g id=\"line2d_12\">\n      <g>\n       <use style=\"stroke:#000000;stroke-width:0.8;\" x=\"20.5625\" xlink:href=\"#m000e6cb17c\" y=\"83.479219\"/>\n      </g>\n     </g>\n     <g id=\"text_12\">\n      <!-- 4 -->\n      <g transform=\"translate(7.2 87.278437)scale(0.1 -0.1)\">\n       <use xlink:href=\"#DejaVuSans-52\"/>\n      </g>\n     </g>\n    </g>\n    <g id=\"ytick_6\">\n     <g id=\"line2d_13\">\n      <g>\n       <use style=\"stroke:#000000;stroke-width:0.8;\" x=\"20.5625\" xlink:href=\"#m000e6cb17c\" y=\"47.239219\"/>\n      </g>\n     </g>\n     <g id=\"text_13\">\n      <!-- 5 -->\n      <g transform=\"translate(7.2 51.038437)scale(0.1 -0.1)\">\n       <use xlink:href=\"#DejaVuSans-53\"/>\n      </g>\n     </g>\n    </g>\n    <g id=\"ytick_7\">\n     <g id=\"line2d_14\">\n      <g>\n       <use style=\"stroke:#000000;stroke-width:0.8;\" x=\"20.5625\" xlink:href=\"#m000e6cb17c\" y=\"10.999219\"/>\n      </g>\n     </g>\n     <g id=\"text_14\">\n      <!-- 6 -->\n      <g transform=\"translate(7.2 14.798437)scale(0.1 -0.1)\">\n       <use xlink:href=\"#DejaVuSans-54\"/>\n      </g>\n     </g>\n    </g>\n   </g>\n   <g id=\"patch_3\">\n    <path d=\"M 20.5625 228.439219 \nL 20.5625 10.999219 \n\" style=\"fill:none;stroke:#000000;stroke-linecap:square;stroke-linejoin:miter;stroke-width:0.8;\"/>\n   </g>\n   <g id=\"patch_4\">\n    <path d=\"M 355.3625 228.439219 \nL 355.3625 10.999219 \n\" style=\"fill:none;stroke:#000000;stroke-linecap:square;stroke-linejoin:miter;stroke-width:0.8;\"/>\n   </g>\n   <g id=\"patch_5\">\n    <path d=\"M 20.5625 228.439219 \nL 355.3625 228.439219 \n\" style=\"fill:none;stroke:#000000;stroke-linecap:square;stroke-linejoin:miter;stroke-width:0.8;\"/>\n   </g>\n   <g id=\"patch_6\">\n    <path d=\"M 20.5625 10.999219 \nL 355.3625 10.999219 \n\" style=\"fill:none;stroke:#000000;stroke-linecap:square;stroke-linejoin:miter;stroke-width:0.8;\"/>\n   </g>\n  </g>\n </g>\n <defs>\n  <clipPath id=\"pc843b13838\">\n   <rect height=\"217.44\" width=\"334.8\" x=\"20.5625\" y=\"10.999219\"/>\n  </clipPath>\n </defs>\n</svg>\n",
      "image/png": "[encoded data removed]"
     },
     "metadata": {
      "needs_background": "light"
     }
    }
   ],
   "source": [
    "import seaborn as sns\n",
    "import time\n",
    "from collections import defaultdict\n",
    "\n",
    "# sns_plot = sns.heatmap(som.distance_map().T, cmap='Reds') #熱像圖\n",
    "# sns_plot.savefig(\"output.png\")\n",
    "winner_coordinates = np.array([som.winner(x) for x in corpus_data]).T\n",
    "cluster_index = np.ravel_multi_index(winner_coordinates, som_shape)\n",
    "winner_coordinates = winner_coordinates.T\n",
    "winner_list = []\n",
    "for i in winner_coordinates:\n",
    "    i = i.tolist()\n",
    "    winner_list.append(i)\n",
    "count = Counter(tuple(item) for item in winner_list)\n",
    "print(count)\n",
    "# print(type(winner_coordinates))\n",
    "# print(type(cluster_index))\n",
    "cluster_index_list = cluster_index.tolist()\n",
    "# print(len(cluster_index_list))\n",
    "\n",
    "data_cluster_dict=defaultdict(list)\n",
    "for i,d in enumerate(cluster_index_list):\n",
    "    data_cluster_dict[d].append(df.index[i])\n",
    "data_cluster_dict = dict(data_cluster_dict)\n",
    "# print(type(data_cluster_dict))\n",
    "with open('SOM_cluster.pickle', 'wb')as f:\n",
    "    pk.dump(data_cluster_dict, f)\n",
    "np.set_printoptions(threshold=np.inf)\n",
    "# winner_coordinates\n",
    "plt_plot = plt.pcolor(som.distance_map().T, cmap='Reds')"
   ]
  },
  {
   "cell_type": "code",
   "execution_count": 41,
   "metadata": {},
   "outputs": [],
   "source": [
    "def sor_dic_key(diction):\n",
    "    lista = []\n",
    "    diction2 = {}\n",
    "    for x in diction:\n",
    "        lista.append([x, diction[x]])\n",
    "    lista.sort(key=lambda x: x[0])\n",
    "    for l in lista:\n",
    "        diction2[l[0]] = l[1]\n",
    "    return diction2\n",
    "def sortedDictValues1(adict): \n",
    "    items = adict.items() \n",
    "    items.sorted() \n",
    "    return [value for key, value in items] \n",
    "def CountFrequency(arr): \n",
    "    return Counter(arr)"
   ]
  },
  {
   "cell_type": "code",
   "execution_count": 36,
   "metadata": {},
   "outputs": [
    {
     "output_type": "stream",
     "name": "stdout",
     "text": [
      "第 0群 ：   89個文章\n第 1群 ：   10個文章\n第 2群 ：   69個文章\n第 3群 ：  103個文章\n第 4群 ：   21個文章\n第 5群 ：   35個文章\n第 6群 ：   55個文章\n第 7群 ：   20個文章\n第 8群 ：   69個文章\n第 9群 ：   13個文章\n第10群 ：   31個文章\n第11群 ：   32個文章\n第12群 ：   23個文章\n第13群 ：   40個文章\n第14群 ：   57個文章\n第15群 ：   61個文章\n第16群 ：    6個文章\n第17群 ：   43個文章\n第18群 ：  109個文章\n第19群 ：  143個文章\n第20群 ：  105個文章\n第21群 ：  127個文章\n第22群 ：   46個文章\n第23群 ：   81個文章\n第24群 ：   11個文章\n第25群 ：   70個文章\n第26群 ：  107個文章\n第27群 ：    7個文章\n第28群 ：   20個文章\n第29群 ：   80個文章\n第30群 ：   32個文章\n第31群 ：   25個文章\n第32群 ：   23個文章\n第33群 ：   86個文章\n第34群 ：    7個文章\n第35群 ： 1783個文章\n"
     ]
    }
   ],
   "source": [
    "for k,v in sorted(data_cluster_dict.items()):\n",
    "    print(\"第%2d群 ： %4d個文章\"%(k,len(v)))"
   ]
  },
  {
   "source": [
    "11/26繼續"
   ],
   "cell_type": "markdown",
   "metadata": {}
  },
  {
   "cell_type": "code",
   "execution_count": 14,
   "metadata": {
    "tags": []
   },
   "outputs": [
    {
     "output_type": "error",
     "ename": "ModuleNotFoundError",
     "evalue": "No module named 'wordcloud'",
     "traceback": [
      "\u001b[0;31m---------------------------------------------------------------------------\u001b[0m",
      "\u001b[0;31mModuleNotFoundError\u001b[0m                       Traceback (most recent call last)",
      "\u001b[0;32m<ipython-input-14-4c26ebffc302>\u001b[0m in \u001b[0;36m<module>\u001b[0;34m\u001b[0m\n\u001b[0;32m----> 1\u001b[0;31m \u001b[0;32mfrom\u001b[0m \u001b[0mwordcloud\u001b[0m \u001b[0;32mimport\u001b[0m \u001b[0mWordCloud\u001b[0m\u001b[0;34m\u001b[0m\u001b[0;34m\u001b[0m\u001b[0m\n\u001b[0m\u001b[1;32m      2\u001b[0m \u001b[0mdf\u001b[0m \u001b[0;34m=\u001b[0m \u001b[0mpd\u001b[0m\u001b[0;34m.\u001b[0m\u001b[0mread_csv\u001b[0m\u001b[0;34m(\u001b[0m\u001b[0;34m'matrix_DF.csv'\u001b[0m\u001b[0;34m,\u001b[0m \u001b[0mindex_col\u001b[0m\u001b[0;34m=\u001b[0m\u001b[0;36m0\u001b[0m\u001b[0;34m)\u001b[0m\u001b[0;34m\u001b[0m\u001b[0;34m\u001b[0m\u001b[0m\n\u001b[1;32m      3\u001b[0m \u001b[0;31m# df = df.T\u001b[0m\u001b[0;34m\u001b[0m\u001b[0;34m\u001b[0m\u001b[0;34m\u001b[0m\u001b[0m\n\u001b[1;32m      4\u001b[0m \u001b[0;31m# print(df)\u001b[0m\u001b[0;34m\u001b[0m\u001b[0;34m\u001b[0m\u001b[0;34m\u001b[0m\u001b[0m\n\u001b[1;32m      5\u001b[0m \u001b[0;31m# print(df['27876245'].values.tolist())\u001b[0m\u001b[0;34m\u001b[0m\u001b[0;34m\u001b[0m\u001b[0;34m\u001b[0m\u001b[0m\n",
      "\u001b[0;31mModuleNotFoundError\u001b[0m: No module named 'wordcloud'"
     ]
    }
   ],
   "source": [
    "from wordcloud import WordCloud\n",
    "df = pd.read_csv('matrix_DF.csv', index_col=0)\n",
    "# df = df.T\n",
    "# print(df)\n",
    "# print(df['27876245'].values.tolist())\n",
    "# print(df.iloc[0].name)\n",
    "# for k,v in data_cluster_dict.items():\n",
    "#     print(k)\n",
    "#     print(v)\n",
    "#     data = df[v].values.tolist()\n",
    "#     for i,d in enumerate(data):\n",
    "#         if d != 0:\n",
    "#             print(df.iloc[i].name)\n",
    "#             list35.append(str(df.iloc[i].name))\n",
    "#     break\n",
    "# print(data_cluster_dict[35])\n",
    "list_all_data = []\n",
    "for i in range(36):\n",
    "    list_data = []\n",
    "    data_pmid = data_cluster_dict[i]\n",
    "    # print(len(data_pmid))\n",
    "    for id in data_pmid:\n",
    "        data = df[id].values.tolist()\n",
    "        # print(len(data))\n",
    "        for j,d in enumerate(data):\n",
    "            if d != 0:\n",
    "                # print(df.iloc[j].name)\n",
    "                list_data.append(str(df.iloc[j].name))\n",
    "    list_all_data.append(list_data)        \n",
    "    # print(Counter(list_data))\n",
    "\n",
    "    \n",
    "# print(Counter(list35))"
   ]
  },
  {
   "cell_type": "code",
   "execution_count": null,
   "metadata": {},
   "outputs": [],
   "source": [
    "from collections import Counter\n",
    "import matplotlib.pyplot as plt\n",
    "\n",
    "for i,d in enumerate(list_all_data):\n",
    "    print(\"第%2d群有：%4d個關鍵字\"%(i,len(d)))\n",
    "    word_could_dict=Counter(d)\n",
    "    wordcloud = WordCloud(width = 1000, height = 500).generate_from_frequencies(word_could_dict)\n",
    "\n",
    "    plt.figure(figsize=(15,8))\n",
    "    plt.imshow(wordcloud)\n",
    "    plt.axis(\"off\")\n",
    "    plt.savefig('SOM_cluster_'+ str(i) +'.png', bbox_inches='tight')\n",
    "    plt.show()\n",
    "    plt.close()"
   ]
  },
  {
   "source": [
    "k-means"
   ],
   "cell_type": "markdown",
   "metadata": {}
  },
  {
   "cell_type": "code",
   "execution_count": null,
   "metadata": {},
   "outputs": [],
   "source": [
    "corpus_data.shape"
   ]
  },
  {
   "cell_type": "code",
   "execution_count": null,
   "metadata": {
    "tags": []
   },
   "outputs": [],
   "source": [
    "n_clusters = 36\n",
    "estimator=KMeans(n_clusters)\n",
    "res=estimator.fit_predict(corpus_data)\n",
    "lable_pred=estimator.labels_\n",
    "centroids=estimator.cluster_centers_\n",
    "inertia=estimator.inertia_\n",
    "#print res\n",
    "print(lable_pred)\n",
    "# print(centroids)\n",
    "# print(inertia)\n",
    "unique, counts = np.unique(lable_pred, return_counts=True)\n",
    "# dict(zip(unique, counts))\n",
    "print(dict(zip(unique, counts)))\n",
    "\n",
    "centers = centroids\n",
    "plt.scatter(centers[:, 0], centers[:, 1], c='black', s=200, alpha=0.5);"
   ]
  }
 ]
}